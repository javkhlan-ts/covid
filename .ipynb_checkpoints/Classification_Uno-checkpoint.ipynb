{
 "cells": [
  {
   "cell_type": "markdown",
   "metadata": {},
   "source": [
    "# Classification"
   ]
  },
  {
   "cell_type": "code",
   "execution_count": 54,
   "metadata": {},
   "outputs": [],
   "source": [
    "#imports\n",
    "import plotly.express as px\n",
    "import plotly.graph_objects as go\n",
    "import plotly.figure_factory as ff\n",
    "from plotly.subplots import make_subplots\n",
    "\n",
    "import folium\n",
    "\n",
    "import pandas as pd\n",
    "import numpy as np\n",
    "import matplotlib.pyplot as plt\n",
    "\n",
    "%matplotlib inline\n",
    "\n",
    "import math\n",
    "import random\n",
    "from datetime import timedelta\n",
    "\n",
    "import warnings\n",
    "warnings.filterwarnings('ignore')\n",
    "\n",
    "#color pallete\n",
    "cnf='#393e46'\n",
    "dth='#ff2e63'\n",
    "rec='#21bf73'\n",
    "act='#fe9801'\n",
    "\n",
    "#dataframes\n",
    "df = pd.read_csv('/Users/javkhlan/Desktop/Projects/Data Visualization in Python/DB3/covid19_data_cleaned.csv', parse_dates=['Date'], index_col=0)\n",
    "country_daywise = pd.read_csv('/Users/javkhlan/Desktop/Projects/Data Visualization in Python/DB3/country_daywise.csv', parse_dates=['Date'])\n",
    "countrywise = pd.read_csv('/Users/javkhlan/Desktop/Projects/Data Visualization in Python/DB3/countrywise.csv',index_col=0)\n",
    "daywise = pd.read_csv('/Users/javkhlan/Desktop/Projects/Data Visualization in Python/DB3/daywise.csv', parse_dates=['Date'])"
   ]
  },
  {
   "cell_type": "code",
   "execution_count": null,
   "metadata": {},
   "outputs": [],
   "source": [
    "# index_col = 0, to avoid Unnamed: 0 index column\n",
    "# Or it can be avoided when df.to_csv(index=False)"
   ]
  },
  {
   "cell_type": "markdown",
   "metadata": {},
   "source": [
    "### Linear Regression"
   ]
  },
  {
   "cell_type": "markdown",
   "metadata": {},
   "source": [
    "#### Regression searches for relationship among variables"
   ]
  },
  {
   "cell_type": "code",
   "execution_count": 3,
   "metadata": {},
   "outputs": [],
   "source": [
    "from sklearn.linear_model import LinearRegression"
   ]
  },
  {
   "cell_type": "code",
   "execution_count": 4,
   "metadata": {},
   "outputs": [],
   "source": [
    "us = country_daywise[country_daywise.Country == 'US'].reset_index(drop=True)"
   ]
  },
  {
   "cell_type": "code",
   "execution_count": 5,
   "metadata": {},
   "outputs": [],
   "source": [
    "us_c = np.array(us)[:, 2]\n",
    "us_d = np.array(us)[:, 3]\n",
    "us_r = np.array(us)[:, 4]\n",
    "\n",
    "us_c = us_c.reshape(-1,1)\n",
    "us_d = us_d.reshape(-1,1)\n",
    "us_r = us_r.reshape(-1,1)"
   ]
  },
  {
   "cell_type": "code",
   "execution_count": 6,
   "metadata": {},
   "outputs": [],
   "source": [
    "from sklearn.model_selection import train_test_split"
   ]
  },
  {
   "cell_type": "code",
   "execution_count": 7,
   "metadata": {},
   "outputs": [],
   "source": [
    "x = us_c\n",
    "y = us_d\n",
    "\n",
    "x_train, x_test, y_train, y_test = train_test_split(x, y, test_size = 0.3)\n",
    "linearRegression = LinearRegression()\n",
    "linearRegression.fit(x_train, y_train)\n",
    "lr_predict = linearRegression.predict(x_test)"
   ]
  },
  {
   "cell_type": "code",
   "execution_count": 8,
   "metadata": {},
   "outputs": [],
   "source": [
    "from sklearn.metrics import mean_squared_error, r2_score"
   ]
  },
  {
   "cell_type": "code",
   "execution_count": 9,
   "metadata": {},
   "outputs": [
    {
     "name": "stdout",
     "output_type": "stream",
     "text": [
      "Mean Squared Error: 731245553.36\n",
      "R-Square: 0.90\n"
     ]
    }
   ],
   "source": [
    "print('Mean Squared Error: %.2f'%mean_squared_error(y_test, lr_predict))\n",
    "print('R-Square: %.2f'%r2_score(y_test, lr_predict))"
   ]
  },
  {
   "cell_type": "code",
   "execution_count": 10,
   "metadata": {},
   "outputs": [
    {
     "data": {
      "image/png": "[encoded data removed]",
      "text/plain": [
       "<Figure size 432x288 with 1 Axes>"
      ]
     },
     "metadata": {
      "needs_background": "light"
     },
     "output_type": "display_data"
    }
   ],
   "source": [
    "plt.scatter(x_test, y_test, linewidths=0.1, alpha=0.5)\n",
    "plt.xlabel('Confirmed')\n",
    "plt.ylabel('Death')\n",
    "plt.title('Actual Scatter')\n",
    "plt.show()"
   ]
  },
  {
   "cell_type": "code",
   "execution_count": 11,
   "metadata": {},
   "outputs": [
    {
     "data": {
      "image/png": "[encoded data removed]",
      "text/plain": [
       "<Figure size 432x288 with 1 Axes>"
      ]
     },
     "metadata": {
      "needs_background": "light"
     },
     "output_type": "display_data"
    }
   ],
   "source": [
    "plt.plot(x_test, lr_predict, color='green', linewidth = 3)\n",
    "plt.xlabel('Confirmed')\n",
    "plt.ylabel('Death')\n",
    "plt.title('Linear Regression Prediction')\n",
    "plt.show()"
   ]
  },
  {
   "cell_type": "code",
   "execution_count": 12,
   "metadata": {},
   "outputs": [],
   "source": [
    "from sklearn.metrics import accuracy_score"
   ]
  },
  {
   "cell_type": "markdown",
   "metadata": {},
   "source": [
    "### Random Forest"
   ]
  },
  {
   "cell_type": "code",
   "execution_count": 13,
   "metadata": {},
   "outputs": [],
   "source": [
    "from sklearn.ensemble import RandomForestClassifier"
   ]
  },
  {
   "cell_type": "code",
   "execution_count": 14,
   "metadata": {},
   "outputs": [
    {
     "data": {
      "text/html": [
       "<div>\n",
       "<style scoped>\n",
       "    .dataframe tbody tr th:only-of-type {\n",
       "        vertical-align: middle;\n",
       "    }\n",
       "\n",
       "    .dataframe tbody tr th {\n",
       "        vertical-align: top;\n",
       "    }\n",
       "\n",
       "    .dataframe thead th {\n",
       "        text-align: right;\n",
       "    }\n",
       "</style>\n",
       "<table border=\"1\" class=\"dataframe\">\n",
       "  <thead>\n",
       "    <tr style=\"text-align: right;\">\n",
       "      <th></th>\n",
       "      <th>Unnamed: 0</th>\n",
       "      <th>Country</th>\n",
       "      <th>Confirmed</th>\n",
       "      <th>Death</th>\n",
       "      <th>Recovered</th>\n",
       "      <th>Active</th>\n",
       "      <th>New cases</th>\n",
       "      <th>New death</th>\n",
       "      <th>New recovered</th>\n",
       "      <th>Death/100 Cases</th>\n",
       "      <th>Recovered/100 Cases</th>\n",
       "      <th>Death/100 Recovered</th>\n",
       "      <th>Population</th>\n",
       "      <th>Cases/Million People</th>\n",
       "    </tr>\n",
       "  </thead>\n",
       "  <tbody>\n",
       "    <tr>\n",
       "      <th>0</th>\n",
       "      <td>0</td>\n",
       "      <td>Afghanistan</td>\n",
       "      <td>45966</td>\n",
       "      <td>1752</td>\n",
       "      <td>36709</td>\n",
       "      <td>7505</td>\n",
       "      <td>127</td>\n",
       "      <td>12</td>\n",
       "      <td>414</td>\n",
       "      <td>3.81</td>\n",
       "      <td>79.86</td>\n",
       "      <td>4.77</td>\n",
       "      <td>38928341</td>\n",
       "      <td>1181.0</td>\n",
       "    </tr>\n",
       "    <tr>\n",
       "      <th>1</th>\n",
       "      <td>1</td>\n",
       "      <td>Albania</td>\n",
       "      <td>36790</td>\n",
       "      <td>787</td>\n",
       "      <td>18152</td>\n",
       "      <td>17851</td>\n",
       "      <td>545</td>\n",
       "      <td>16</td>\n",
       "      <td>397</td>\n",
       "      <td>2.14</td>\n",
       "      <td>49.34</td>\n",
       "      <td>4.34</td>\n",
       "      <td>2877800</td>\n",
       "      <td>12784.0</td>\n",
       "    </tr>\n",
       "    <tr>\n",
       "      <th>2</th>\n",
       "      <td>2</td>\n",
       "      <td>Algeria</td>\n",
       "      <td>81212</td>\n",
       "      <td>2393</td>\n",
       "      <td>52568</td>\n",
       "      <td>26251</td>\n",
       "      <td>1044</td>\n",
       "      <td>21</td>\n",
       "      <td>622</td>\n",
       "      <td>2.95</td>\n",
       "      <td>64.73</td>\n",
       "      <td>4.55</td>\n",
       "      <td>43851043</td>\n",
       "      <td>1852.0</td>\n",
       "    </tr>\n",
       "    <tr>\n",
       "      <th>3</th>\n",
       "      <td>3</td>\n",
       "      <td>Andorra</td>\n",
       "      <td>6610</td>\n",
       "      <td>76</td>\n",
       "      <td>5710</td>\n",
       "      <td>824</td>\n",
       "      <td>0</td>\n",
       "      <td>0</td>\n",
       "      <td>0</td>\n",
       "      <td>1.15</td>\n",
       "      <td>86.38</td>\n",
       "      <td>1.33</td>\n",
       "      <td>77265</td>\n",
       "      <td>85550.0</td>\n",
       "    </tr>\n",
       "    <tr>\n",
       "      <th>4</th>\n",
       "      <td>4</td>\n",
       "      <td>Angola</td>\n",
       "      <td>15087</td>\n",
       "      <td>345</td>\n",
       "      <td>7763</td>\n",
       "      <td>6979</td>\n",
       "      <td>79</td>\n",
       "      <td>3</td>\n",
       "      <td>66</td>\n",
       "      <td>2.29</td>\n",
       "      <td>51.45</td>\n",
       "      <td>4.44</td>\n",
       "      <td>32866268</td>\n",
       "      <td>459.0</td>\n",
       "    </tr>\n",
       "  </tbody>\n",
       "</table>\n",
       "</div>"
      ],
      "text/plain": [
       "   Unnamed: 0      Country  Confirmed  Death  Recovered  Active  New cases  \\\n",
       "0           0  Afghanistan      45966   1752      36709    7505        127   \n",
       "1           1      Albania      36790    787      18152   17851        545   \n",
       "2           2      Algeria      81212   2393      52568   26251       1044   \n",
       "3           3      Andorra       6610     76       5710     824          0   \n",
       "4           4       Angola      15087    345       7763    6979         79   \n",
       "\n",
       "   New death  New recovered  Death/100 Cases  Recovered/100 Cases  \\\n",
       "0         12            414             3.81                79.86   \n",
       "1         16            397             2.14                49.34   \n",
       "2         21            622             2.95                64.73   \n",
       "3          0              0             1.15                86.38   \n",
       "4          3             66             2.29                51.45   \n",
       "\n",
       "   Death/100 Recovered  Population  Cases/Million People  \n",
       "0                 4.77    38928341                1181.0  \n",
       "1                 4.34     2877800               12784.0  \n",
       "2                 4.55    43851043                1852.0  \n",
       "3                 1.33       77265               85550.0  \n",
       "4                 4.44    32866268                 459.0  "
      ]
     },
     "execution_count": 14,
     "metadata": {},
     "output_type": "execute_result"
    }
   ],
   "source": [
    "countrywise.head()"
   ]
  },
  {
   "cell_type": "code",
   "execution_count": 15,
   "metadata": {},
   "outputs": [],
   "source": [
    "#Incidence rate formula\n",
    "countrywise['Incidence rate'] = (countrywise['New cases']/countrywise['Population']*100000).round(decimals=2)"
   ]
  },
  {
   "cell_type": "code",
   "execution_count": 16,
   "metadata": {},
   "outputs": [],
   "source": [
    "#Incidence rate >3 : high risk\n",
    "#Incidence rate >1.5 : moderate\n",
    "#Incidence rate < 1.5 : low\n",
    "\n",
    "risk = []\n",
    "for i in countrywise['Incidence rate']:\n",
    "    if(i < 1.5):\n",
    "        risk.append(0)\n",
    "    elif (i < 3):\n",
    "        risk.append(1)\n",
    "    else:\n",
    "        risk.append(2)\n",
    "        \n",
    "countrywise['Risk'] = risk"
   ]
  },
  {
   "cell_type": "code",
   "execution_count": 17,
   "metadata": {},
   "outputs": [
    {
     "data": {
      "text/html": [
       "<div>\n",
       "<style scoped>\n",
       "    .dataframe tbody tr th:only-of-type {\n",
       "        vertical-align: middle;\n",
       "    }\n",
       "\n",
       "    .dataframe tbody tr th {\n",
       "        vertical-align: top;\n",
       "    }\n",
       "\n",
       "    .dataframe thead th {\n",
       "        text-align: right;\n",
       "    }\n",
       "</style>\n",
       "<table border=\"1\" class=\"dataframe\">\n",
       "  <thead>\n",
       "    <tr style=\"text-align: right;\">\n",
       "      <th></th>\n",
       "      <th>Unnamed: 0</th>\n",
       "      <th>Country</th>\n",
       "      <th>Confirmed</th>\n",
       "      <th>Death</th>\n",
       "      <th>Recovered</th>\n",
       "      <th>Active</th>\n",
       "      <th>New cases</th>\n",
       "      <th>New death</th>\n",
       "      <th>New recovered</th>\n",
       "      <th>Death/100 Cases</th>\n",
       "      <th>Recovered/100 Cases</th>\n",
       "      <th>Death/100 Recovered</th>\n",
       "      <th>Population</th>\n",
       "      <th>Cases/Million People</th>\n",
       "      <th>Incidence rate</th>\n",
       "      <th>Risk</th>\n",
       "    </tr>\n",
       "  </thead>\n",
       "  <tbody>\n",
       "    <tr>\n",
       "      <th>0</th>\n",
       "      <td>0</td>\n",
       "      <td>Afghanistan</td>\n",
       "      <td>45966</td>\n",
       "      <td>1752</td>\n",
       "      <td>36709</td>\n",
       "      <td>7505</td>\n",
       "      <td>127</td>\n",
       "      <td>12</td>\n",
       "      <td>414</td>\n",
       "      <td>3.81</td>\n",
       "      <td>79.86</td>\n",
       "      <td>4.77</td>\n",
       "      <td>38928341</td>\n",
       "      <td>1181.0</td>\n",
       "      <td>0.33</td>\n",
       "      <td>0</td>\n",
       "    </tr>\n",
       "    <tr>\n",
       "      <th>1</th>\n",
       "      <td>1</td>\n",
       "      <td>Albania</td>\n",
       "      <td>36790</td>\n",
       "      <td>787</td>\n",
       "      <td>18152</td>\n",
       "      <td>17851</td>\n",
       "      <td>545</td>\n",
       "      <td>16</td>\n",
       "      <td>397</td>\n",
       "      <td>2.14</td>\n",
       "      <td>49.34</td>\n",
       "      <td>4.34</td>\n",
       "      <td>2877800</td>\n",
       "      <td>12784.0</td>\n",
       "      <td>18.94</td>\n",
       "      <td>2</td>\n",
       "    </tr>\n",
       "    <tr>\n",
       "      <th>2</th>\n",
       "      <td>2</td>\n",
       "      <td>Algeria</td>\n",
       "      <td>81212</td>\n",
       "      <td>2393</td>\n",
       "      <td>52568</td>\n",
       "      <td>26251</td>\n",
       "      <td>1044</td>\n",
       "      <td>21</td>\n",
       "      <td>622</td>\n",
       "      <td>2.95</td>\n",
       "      <td>64.73</td>\n",
       "      <td>4.55</td>\n",
       "      <td>43851043</td>\n",
       "      <td>1852.0</td>\n",
       "      <td>2.38</td>\n",
       "      <td>1</td>\n",
       "    </tr>\n",
       "    <tr>\n",
       "      <th>3</th>\n",
       "      <td>3</td>\n",
       "      <td>Andorra</td>\n",
       "      <td>6610</td>\n",
       "      <td>76</td>\n",
       "      <td>5710</td>\n",
       "      <td>824</td>\n",
       "      <td>0</td>\n",
       "      <td>0</td>\n",
       "      <td>0</td>\n",
       "      <td>1.15</td>\n",
       "      <td>86.38</td>\n",
       "      <td>1.33</td>\n",
       "      <td>77265</td>\n",
       "      <td>85550.0</td>\n",
       "      <td>0.00</td>\n",
       "      <td>0</td>\n",
       "    </tr>\n",
       "    <tr>\n",
       "      <th>4</th>\n",
       "      <td>4</td>\n",
       "      <td>Angola</td>\n",
       "      <td>15087</td>\n",
       "      <td>345</td>\n",
       "      <td>7763</td>\n",
       "      <td>6979</td>\n",
       "      <td>79</td>\n",
       "      <td>3</td>\n",
       "      <td>66</td>\n",
       "      <td>2.29</td>\n",
       "      <td>51.45</td>\n",
       "      <td>4.44</td>\n",
       "      <td>32866268</td>\n",
       "      <td>459.0</td>\n",
       "      <td>0.24</td>\n",
       "      <td>0</td>\n",
       "    </tr>\n",
       "  </tbody>\n",
       "</table>\n",
       "</div>"
      ],
      "text/plain": [
       "   Unnamed: 0      Country  Confirmed  Death  Recovered  Active  New cases  \\\n",
       "0           0  Afghanistan      45966   1752      36709    7505        127   \n",
       "1           1      Albania      36790    787      18152   17851        545   \n",
       "2           2      Algeria      81212   2393      52568   26251       1044   \n",
       "3           3      Andorra       6610     76       5710     824          0   \n",
       "4           4       Angola      15087    345       7763    6979         79   \n",
       "\n",
       "   New death  New recovered  Death/100 Cases  Recovered/100 Cases  \\\n",
       "0         12            414             3.81                79.86   \n",
       "1         16            397             2.14                49.34   \n",
       "2         21            622             2.95                64.73   \n",
       "3          0              0             1.15                86.38   \n",
       "4          3             66             2.29                51.45   \n",
       "\n",
       "   Death/100 Recovered  Population  Cases/Million People  Incidence rate  Risk  \n",
       "0                 4.77    38928341                1181.0            0.33     0  \n",
       "1                 4.34     2877800               12784.0           18.94     2  \n",
       "2                 4.55    43851043                1852.0            2.38     1  \n",
       "3                 1.33       77265               85550.0            0.00     0  \n",
       "4                 4.44    32866268                 459.0            0.24     0  "
      ]
     },
     "execution_count": 17,
     "metadata": {},
     "output_type": "execute_result"
    }
   ],
   "source": [
    "countrywise.head()"
   ]
  },
  {
   "cell_type": "code",
   "execution_count": 18,
   "metadata": {},
   "outputs": [],
   "source": [
    "x = countrywise[['New cases', 'Population', 'Incidence rate']] #Features\n",
    "y = countrywise['Risk'] #Label"
   ]
  },
  {
   "cell_type": "code",
   "execution_count": 19,
   "metadata": {},
   "outputs": [],
   "source": [
    "x_train, x_test, y_train, y_test = train_test_split(x, y, test_size = 0.3)\n",
    "randomForest = RandomForestClassifier().fit(x_train, y_train)\n",
    "rf_predict = randomForest.predict(x_test)"
   ]
  },
  {
   "cell_type": "code",
   "execution_count": 20,
   "metadata": {},
   "outputs": [
    {
     "data": {
      "text/plain": [
       "1.0"
      ]
     },
     "execution_count": 20,
     "metadata": {},
     "output_type": "execute_result"
    }
   ],
   "source": [
    "accuracy_score(y_test, rf_predict)"
   ]
  },
  {
   "cell_type": "code",
   "execution_count": 21,
   "metadata": {},
   "outputs": [
    {
     "data": {
      "text/plain": [
       "array([2])"
      ]
     },
     "execution_count": 21,
     "metadata": {},
     "output_type": "execute_result"
    }
   ],
   "source": [
    "randomForest.predict([[100, 1000000, 10]])"
   ]
  },
  {
   "cell_type": "code",
   "execution_count": 22,
   "metadata": {},
   "outputs": [
    {
     "data": {
      "text/plain": [
       "0.7017543859649122"
      ]
     },
     "execution_count": 22,
     "metadata": {},
     "output_type": "execute_result"
    }
   ],
   "source": [
    "#what if take other values???\n",
    "x = countrywise[['Confirmed', 'Death', 'Recovered']] #Features\n",
    "y = countrywise['Risk'] #Label\n",
    "x_train, x_test, y_train, y_test = train_test_split(x, y, test_size = 0.3)\n",
    "randomForest = RandomForestClassifier().fit(x_train, y_train)\n",
    "rf_predict = randomForest.predict(x_test)\n",
    "accuracy_score(y_test, rf_predict)"
   ]
  },
  {
   "cell_type": "markdown",
   "metadata": {},
   "source": [
    "## Decision Tree"
   ]
  },
  {
   "cell_type": "code",
   "execution_count": 23,
   "metadata": {},
   "outputs": [],
   "source": [
    "from sklearn.tree import DecisionTreeClassifier"
   ]
  },
  {
   "cell_type": "code",
   "execution_count": 24,
   "metadata": {},
   "outputs": [
    {
     "data": {
      "text/plain": [
       "1.0"
      ]
     },
     "execution_count": 24,
     "metadata": {},
     "output_type": "execute_result"
    }
   ],
   "source": [
    "x = countrywise[['New cases', 'Population', 'Incidence rate']] #Features\n",
    "y = countrywise['Risk'] #Label\n",
    "\n",
    "x_train, x_test, y_train, y_test = train_test_split(x, y, test_size = 0.3)\n",
    "decisionTree = DecisionTreeClassifier().fit(x_train, y_train)\n",
    "dt_predict = decisionTree.predict(x_test)\n",
    "accuracy_score(y_test, dt_predict)"
   ]
  },
  {
   "cell_type": "code",
   "execution_count": 25,
   "metadata": {},
   "outputs": [
    {
     "data": {
      "text/plain": [
       "0.6491228070175439"
      ]
     },
     "execution_count": 25,
     "metadata": {},
     "output_type": "execute_result"
    }
   ],
   "source": [
    "x = countrywise[['Confirmed', 'Death', 'Recovered']] #Features\n",
    "y = countrywise['Risk'] #Label\n",
    "\n",
    "x_train, x_test, y_train, y_test = train_test_split(x, y, test_size = 0.3)\n",
    "decisionTree = DecisionTreeClassifier().fit(x_train, y_train)\n",
    "dt_predict = decisionTree.predict(x_test)\n",
    "accuracy_score(y_test, dt_predict)"
   ]
  },
  {
   "cell_type": "markdown",
   "metadata": {},
   "source": [
    "## KNN"
   ]
  },
  {
   "cell_type": "markdown",
   "metadata": {},
   "source": [
    "#### Why KNN is far from accurate???"
   ]
  },
  {
   "cell_type": "code",
   "execution_count": 26,
   "metadata": {},
   "outputs": [],
   "source": [
    "from sklearn.neighbors import KNeighborsClassifier"
   ]
  },
  {
   "cell_type": "code",
   "execution_count": 27,
   "metadata": {},
   "outputs": [
    {
     "data": {
      "text/plain": [
       "0.5087719298245614"
      ]
     },
     "execution_count": 27,
     "metadata": {},
     "output_type": "execute_result"
    }
   ],
   "source": [
    "x = countrywise[['New cases', 'Population', 'Incidence rate']] #Features\n",
    "y = countrywise['Risk'] #Label\n",
    "\n",
    "x_train, x_test, y_train, y_test = train_test_split(x, y, test_size = 0.3)\n",
    "knn = KNeighborsClassifier(n_neighbors=20).fit(x_train, y_train)\n",
    "knn_predict = knn.predict(x_test)\n",
    "accuracy_score(y_test, knn_predict)"
   ]
  },
  {
   "cell_type": "code",
   "execution_count": 28,
   "metadata": {},
   "outputs": [
    {
     "data": {
      "text/plain": [
       "0.6842105263157895"
      ]
     },
     "execution_count": 28,
     "metadata": {},
     "output_type": "execute_result"
    }
   ],
   "source": [
    "x = countrywise[['Confirmed', 'Death', 'Recovered']] #Features\n",
    "y = countrywise['Risk'] #Label\n",
    "\n",
    "x_train, x_test, y_train, y_test = train_test_split(x, y, test_size = 0.3)\n",
    "knn = KNeighborsClassifier(n_neighbors=20).fit(x_train, y_train)\n",
    "knn_predict = knn.predict(x_test)\n",
    "accuracy_score(y_test, knn_predict)"
   ]
  },
  {
   "cell_type": "markdown",
   "metadata": {},
   "source": [
    "## K-Mean"
   ]
  },
  {
   "cell_type": "code",
   "execution_count": 29,
   "metadata": {},
   "outputs": [],
   "source": [
    "from sklearn.cluster import KMeans"
   ]
  },
  {
   "cell_type": "markdown",
   "metadata": {},
   "source": [
    "#### Try 2"
   ]
  },
  {
   "cell_type": "code",
   "execution_count": 30,
   "metadata": {},
   "outputs": [
    {
     "data": {
      "image/png": "[encoded data removed]",
      "text/plain": [
       "<Figure size 432x288 with 1 Axes>"
      ]
     },
     "metadata": {
      "needs_background": "light"
     },
     "output_type": "display_data"
    }
   ],
   "source": [
    "plt.xlabel('Confirmed')\n",
    "plt.ylabel('Incidence rate')\n",
    "plt.scatter(countrywise.Confirmed, countrywise['Incidence rate'], marker='+', color='orange')\n",
    "plt.show()"
   ]
  },
  {
   "cell_type": "code",
   "execution_count": 31,
   "metadata": {},
   "outputs": [
    {
     "data": {
      "text/plain": [
       "KMeans(n_clusters=3)"
      ]
     },
     "execution_count": 31,
     "metadata": {},
     "output_type": "execute_result"
    }
   ],
   "source": [
    "km = KMeans(n_clusters = 3)\n",
    "km"
   ]
  },
  {
   "cell_type": "code",
   "execution_count": 32,
   "metadata": {},
   "outputs": [
    {
     "data": {
      "text/plain": [
       "array([1, 1, 1, 1, 1, 1, 0, 1, 1, 1, 1, 1, 1, 1, 1, 1, 1, 1, 1, 1, 1, 1,\n",
       "       1, 2, 1, 1, 1, 1, 1, 1, 1, 1, 1, 1, 1, 1, 1, 0, 1, 1, 1, 1, 1, 1,\n",
       "       1, 1, 1, 1, 1, 1, 1, 1, 1, 1, 1, 1, 1, 1, 1, 1, 1, 0, 1, 1, 1, 0,\n",
       "       1, 1, 1, 1, 1, 1, 1, 1, 1, 1, 1, 1, 2, 1, 0, 1, 1, 1, 0, 1, 1, 1,\n",
       "       1, 1, 1, 1, 1, 1, 1, 1, 1, 1, 1, 1, 1, 1, 1, 1, 1, 1, 1, 1, 1, 1,\n",
       "       1, 1, 1, 0, 1, 1, 1, 1, 1, 1, 1, 1, 1, 1, 1, 1, 1, 1, 1, 1, 1, 1,\n",
       "       1, 1, 0, 1, 0, 1, 1, 1, 0, 1, 1, 1, 1, 1, 1, 1, 1, 1, 1, 1, 1, 1,\n",
       "       1, 1, 1, 0, 1, 0, 1, 1, 1, 1, 1, 1, 1, 1, 1, 1, 1, 1, 1, 1, 1, 2,\n",
       "       1, 0, 1, 0, 1, 1, 1, 1, 1, 1, 1, 1, 1], dtype=int32)"
      ]
     },
     "execution_count": 32,
     "metadata": {},
     "output_type": "execute_result"
    }
   ],
   "source": [
    "y_pred = km.fit_predict(countrywise[['Confirmed', 'Incidence rate']])\n",
    "y_pred"
   ]
  },
  {
   "cell_type": "code",
   "execution_count": 33,
   "metadata": {},
   "outputs": [
    {
     "data": {
      "text/html": [
       "<div>\n",
       "<style scoped>\n",
       "    .dataframe tbody tr th:only-of-type {\n",
       "        vertical-align: middle;\n",
       "    }\n",
       "\n",
       "    .dataframe tbody tr th {\n",
       "        vertical-align: top;\n",
       "    }\n",
       "\n",
       "    .dataframe thead th {\n",
       "        text-align: right;\n",
       "    }\n",
       "</style>\n",
       "<table border=\"1\" class=\"dataframe\">\n",
       "  <thead>\n",
       "    <tr style=\"text-align: right;\">\n",
       "      <th></th>\n",
       "      <th>Unnamed: 0</th>\n",
       "      <th>Country</th>\n",
       "      <th>Confirmed</th>\n",
       "      <th>Death</th>\n",
       "      <th>Recovered</th>\n",
       "      <th>Active</th>\n",
       "      <th>New cases</th>\n",
       "      <th>New death</th>\n",
       "      <th>New recovered</th>\n",
       "      <th>Death/100 Cases</th>\n",
       "      <th>Recovered/100 Cases</th>\n",
       "      <th>Death/100 Recovered</th>\n",
       "      <th>Population</th>\n",
       "      <th>Cases/Million People</th>\n",
       "      <th>Incidence rate</th>\n",
       "      <th>Risk</th>\n",
       "      <th>km_cluster</th>\n",
       "    </tr>\n",
       "  </thead>\n",
       "  <tbody>\n",
       "    <tr>\n",
       "      <th>0</th>\n",
       "      <td>0</td>\n",
       "      <td>Afghanistan</td>\n",
       "      <td>45966</td>\n",
       "      <td>1752</td>\n",
       "      <td>36709</td>\n",
       "      <td>7505</td>\n",
       "      <td>127</td>\n",
       "      <td>12</td>\n",
       "      <td>414</td>\n",
       "      <td>3.81</td>\n",
       "      <td>79.86</td>\n",
       "      <td>4.77</td>\n",
       "      <td>38928341</td>\n",
       "      <td>1181.0</td>\n",
       "      <td>0.33</td>\n",
       "      <td>0</td>\n",
       "      <td>1</td>\n",
       "    </tr>\n",
       "    <tr>\n",
       "      <th>1</th>\n",
       "      <td>1</td>\n",
       "      <td>Albania</td>\n",
       "      <td>36790</td>\n",
       "      <td>787</td>\n",
       "      <td>18152</td>\n",
       "      <td>17851</td>\n",
       "      <td>545</td>\n",
       "      <td>16</td>\n",
       "      <td>397</td>\n",
       "      <td>2.14</td>\n",
       "      <td>49.34</td>\n",
       "      <td>4.34</td>\n",
       "      <td>2877800</td>\n",
       "      <td>12784.0</td>\n",
       "      <td>18.94</td>\n",
       "      <td>2</td>\n",
       "      <td>1</td>\n",
       "    </tr>\n",
       "    <tr>\n",
       "      <th>2</th>\n",
       "      <td>2</td>\n",
       "      <td>Algeria</td>\n",
       "      <td>81212</td>\n",
       "      <td>2393</td>\n",
       "      <td>52568</td>\n",
       "      <td>26251</td>\n",
       "      <td>1044</td>\n",
       "      <td>21</td>\n",
       "      <td>622</td>\n",
       "      <td>2.95</td>\n",
       "      <td>64.73</td>\n",
       "      <td>4.55</td>\n",
       "      <td>43851043</td>\n",
       "      <td>1852.0</td>\n",
       "      <td>2.38</td>\n",
       "      <td>1</td>\n",
       "      <td>1</td>\n",
       "    </tr>\n",
       "  </tbody>\n",
       "</table>\n",
       "</div>"
      ],
      "text/plain": [
       "   Unnamed: 0      Country  Confirmed  Death  Recovered  Active  New cases  \\\n",
       "0           0  Afghanistan      45966   1752      36709    7505        127   \n",
       "1           1      Albania      36790    787      18152   17851        545   \n",
       "2           2      Algeria      81212   2393      52568   26251       1044   \n",
       "\n",
       "   New death  New recovered  Death/100 Cases  Recovered/100 Cases  \\\n",
       "0         12            414             3.81                79.86   \n",
       "1         16            397             2.14                49.34   \n",
       "2         21            622             2.95                64.73   \n",
       "\n",
       "   Death/100 Recovered  Population  Cases/Million People  Incidence rate  \\\n",
       "0                 4.77    38928341                1181.0            0.33   \n",
       "1                 4.34     2877800               12784.0           18.94   \n",
       "2                 4.55    43851043                1852.0            2.38   \n",
       "\n",
       "   Risk  km_cluster  \n",
       "0     0           1  \n",
       "1     2           1  \n",
       "2     1           1  "
      ]
     },
     "execution_count": 33,
     "metadata": {},
     "output_type": "execute_result"
    }
   ],
   "source": [
    "countrywise['km_cluster'] = y_pred\n",
    "countrywise.head(3)"
   ]
  },
  {
   "cell_type": "code",
   "execution_count": 34,
   "metadata": {},
   "outputs": [
    {
     "data": {
      "image/png": "[encoded data removed]",
      "text/plain": [
       "<Figure size 432x288 with 1 Axes>"
      ]
     },
     "metadata": {
      "needs_background": "light"
     },
     "output_type": "display_data"
    }
   ],
   "source": [
    "km0 = countrywise[countrywise.km_cluster==0]\n",
    "km1 = countrywise[countrywise.km_cluster==1]\n",
    "km2 = countrywise[countrywise.km_cluster==2]\n",
    "plt.scatter(km0.Confirmed, km0['Incidence rate'], color='green')\n",
    "plt.scatter(km1.Confirmed, km1['Incidence rate'], color='red')\n",
    "plt.scatter(km2.Confirmed, km2['Incidence rate'], color='black')\n",
    "plt.scatter(km.cluster_centers_[:, 0], km.cluster_centers_[:, 1], color='purple', \n",
    "            marker='*', label='centroid')\n",
    "plt.xlabel('Confirmed')\n",
    "plt.ylabel('Risk')\n",
    "plt.legend()\n",
    "plt.show()"
   ]
  },
  {
   "cell_type": "markdown",
   "metadata": {},
   "source": [
    "#### Try 1"
   ]
  },
  {
   "cell_type": "code",
   "execution_count": 35,
   "metadata": {},
   "outputs": [
    {
     "data": {
      "text/plain": [
       "0.40350877192982454"
      ]
     },
     "execution_count": 35,
     "metadata": {},
     "output_type": "execute_result"
    }
   ],
   "source": [
    "x = countrywise[['New cases', 'Population', 'Incidence rate']] #Features\n",
    "y = countrywise['Risk'] #Label\n",
    "\n",
    "x_train, x_test, y_train, y_test = train_test_split(x, y, test_size = 0.3)\n",
    "kmeans = KMeans().fit(x_train, y_train)\n",
    "kmeans_predict = kmeans.predict(x_test)\n",
    "accuracy_score(y_test, kmeans_predict)"
   ]
  },
  {
   "cell_type": "code",
   "execution_count": 36,
   "metadata": {},
   "outputs": [
    {
     "data": {
      "text/plain": [
       "0.5087719298245614"
      ]
     },
     "execution_count": 36,
     "metadata": {},
     "output_type": "execute_result"
    }
   ],
   "source": [
    "x = countrywise[['Confirmed', 'Death', 'Recovered']] #Features\n",
    "y = countrywise['Risk'] #Label\n",
    "\n",
    "x_train, x_test, y_train, y_test = train_test_split(x, y, test_size = 0.3)\n",
    "kmeans = KMeans().fit(x_train, y_train)\n",
    "kmeans_predict = kmeans.predict(x_test)\n",
    "accuracy_score(y_test, kmeans_predict)"
   ]
  },
  {
   "cell_type": "markdown",
   "metadata": {},
   "source": [
    "# SVM"
   ]
  },
  {
   "cell_type": "code",
   "execution_count": 37,
   "metadata": {},
   "outputs": [
    {
     "data": {
      "text/html": [
       "<div>\n",
       "<style scoped>\n",
       "    .dataframe tbody tr th:only-of-type {\n",
       "        vertical-align: middle;\n",
       "    }\n",
       "\n",
       "    .dataframe tbody tr th {\n",
       "        vertical-align: top;\n",
       "    }\n",
       "\n",
       "    .dataframe thead th {\n",
       "        text-align: right;\n",
       "    }\n",
       "</style>\n",
       "<table border=\"1\" class=\"dataframe\">\n",
       "  <thead>\n",
       "    <tr style=\"text-align: right;\">\n",
       "      <th></th>\n",
       "      <th>Unnamed: 0</th>\n",
       "      <th>Country</th>\n",
       "      <th>Confirmed</th>\n",
       "      <th>Death</th>\n",
       "      <th>Recovered</th>\n",
       "      <th>Active</th>\n",
       "      <th>New cases</th>\n",
       "      <th>New death</th>\n",
       "      <th>New recovered</th>\n",
       "      <th>Death/100 Cases</th>\n",
       "      <th>Recovered/100 Cases</th>\n",
       "      <th>Death/100 Recovered</th>\n",
       "      <th>Population</th>\n",
       "      <th>Cases/Million People</th>\n",
       "      <th>Incidence rate</th>\n",
       "      <th>Risk</th>\n",
       "      <th>km_cluster</th>\n",
       "    </tr>\n",
       "  </thead>\n",
       "  <tbody>\n",
       "    <tr>\n",
       "      <th>0</th>\n",
       "      <td>0</td>\n",
       "      <td>Afghanistan</td>\n",
       "      <td>45966</td>\n",
       "      <td>1752</td>\n",
       "      <td>36709</td>\n",
       "      <td>7505</td>\n",
       "      <td>127</td>\n",
       "      <td>12</td>\n",
       "      <td>414</td>\n",
       "      <td>3.81</td>\n",
       "      <td>79.86</td>\n",
       "      <td>4.77</td>\n",
       "      <td>38928341</td>\n",
       "      <td>1181.0</td>\n",
       "      <td>0.33</td>\n",
       "      <td>0</td>\n",
       "      <td>1</td>\n",
       "    </tr>\n",
       "    <tr>\n",
       "      <th>1</th>\n",
       "      <td>1</td>\n",
       "      <td>Albania</td>\n",
       "      <td>36790</td>\n",
       "      <td>787</td>\n",
       "      <td>18152</td>\n",
       "      <td>17851</td>\n",
       "      <td>545</td>\n",
       "      <td>16</td>\n",
       "      <td>397</td>\n",
       "      <td>2.14</td>\n",
       "      <td>49.34</td>\n",
       "      <td>4.34</td>\n",
       "      <td>2877800</td>\n",
       "      <td>12784.0</td>\n",
       "      <td>18.94</td>\n",
       "      <td>2</td>\n",
       "      <td>1</td>\n",
       "    </tr>\n",
       "    <tr>\n",
       "      <th>2</th>\n",
       "      <td>2</td>\n",
       "      <td>Algeria</td>\n",
       "      <td>81212</td>\n",
       "      <td>2393</td>\n",
       "      <td>52568</td>\n",
       "      <td>26251</td>\n",
       "      <td>1044</td>\n",
       "      <td>21</td>\n",
       "      <td>622</td>\n",
       "      <td>2.95</td>\n",
       "      <td>64.73</td>\n",
       "      <td>4.55</td>\n",
       "      <td>43851043</td>\n",
       "      <td>1852.0</td>\n",
       "      <td>2.38</td>\n",
       "      <td>1</td>\n",
       "      <td>1</td>\n",
       "    </tr>\n",
       "    <tr>\n",
       "      <th>3</th>\n",
       "      <td>3</td>\n",
       "      <td>Andorra</td>\n",
       "      <td>6610</td>\n",
       "      <td>76</td>\n",
       "      <td>5710</td>\n",
       "      <td>824</td>\n",
       "      <td>0</td>\n",
       "      <td>0</td>\n",
       "      <td>0</td>\n",
       "      <td>1.15</td>\n",
       "      <td>86.38</td>\n",
       "      <td>1.33</td>\n",
       "      <td>77265</td>\n",
       "      <td>85550.0</td>\n",
       "      <td>0.00</td>\n",
       "      <td>0</td>\n",
       "      <td>1</td>\n",
       "    </tr>\n",
       "    <tr>\n",
       "      <th>4</th>\n",
       "      <td>4</td>\n",
       "      <td>Angola</td>\n",
       "      <td>15087</td>\n",
       "      <td>345</td>\n",
       "      <td>7763</td>\n",
       "      <td>6979</td>\n",
       "      <td>79</td>\n",
       "      <td>3</td>\n",
       "      <td>66</td>\n",
       "      <td>2.29</td>\n",
       "      <td>51.45</td>\n",
       "      <td>4.44</td>\n",
       "      <td>32866268</td>\n",
       "      <td>459.0</td>\n",
       "      <td>0.24</td>\n",
       "      <td>0</td>\n",
       "      <td>1</td>\n",
       "    </tr>\n",
       "    <tr>\n",
       "      <th>...</th>\n",
       "      <td>...</td>\n",
       "      <td>...</td>\n",
       "      <td>...</td>\n",
       "      <td>...</td>\n",
       "      <td>...</td>\n",
       "      <td>...</td>\n",
       "      <td>...</td>\n",
       "      <td>...</td>\n",
       "      <td>...</td>\n",
       "      <td>...</td>\n",
       "      <td>...</td>\n",
       "      <td>...</td>\n",
       "      <td>...</td>\n",
       "      <td>...</td>\n",
       "      <td>...</td>\n",
       "      <td>...</td>\n",
       "      <td>...</td>\n",
       "    </tr>\n",
       "    <tr>\n",
       "      <th>184</th>\n",
       "      <td>184</td>\n",
       "      <td>West Bank and Gaza</td>\n",
       "      <td>81890</td>\n",
       "      <td>704</td>\n",
       "      <td>62944</td>\n",
       "      <td>18242</td>\n",
       "      <td>1461</td>\n",
       "      <td>15</td>\n",
       "      <td>984</td>\n",
       "      <td>0.86</td>\n",
       "      <td>76.86</td>\n",
       "      <td>1.12</td>\n",
       "      <td>4543126</td>\n",
       "      <td>18025.0</td>\n",
       "      <td>32.16</td>\n",
       "      <td>2</td>\n",
       "      <td>1</td>\n",
       "    </tr>\n",
       "    <tr>\n",
       "      <th>185</th>\n",
       "      <td>185</td>\n",
       "      <td>Western Sahara</td>\n",
       "      <td>10</td>\n",
       "      <td>1</td>\n",
       "      <td>8</td>\n",
       "      <td>1</td>\n",
       "      <td>0</td>\n",
       "      <td>0</td>\n",
       "      <td>0</td>\n",
       "      <td>10.00</td>\n",
       "      <td>80.00</td>\n",
       "      <td>12.50</td>\n",
       "      <td>597330</td>\n",
       "      <td>17.0</td>\n",
       "      <td>0.00</td>\n",
       "      <td>0</td>\n",
       "      <td>1</td>\n",
       "    </tr>\n",
       "    <tr>\n",
       "      <th>186</th>\n",
       "      <td>186</td>\n",
       "      <td>Yemen</td>\n",
       "      <td>2160</td>\n",
       "      <td>615</td>\n",
       "      <td>1498</td>\n",
       "      <td>47</td>\n",
       "      <td>12</td>\n",
       "      <td>1</td>\n",
       "      <td>7</td>\n",
       "      <td>28.47</td>\n",
       "      <td>69.35</td>\n",
       "      <td>41.05</td>\n",
       "      <td>29825968</td>\n",
       "      <td>72.0</td>\n",
       "      <td>0.04</td>\n",
       "      <td>0</td>\n",
       "      <td>1</td>\n",
       "    </tr>\n",
       "    <tr>\n",
       "      <th>187</th>\n",
       "      <td>187</td>\n",
       "      <td>Zambia</td>\n",
       "      <td>17589</td>\n",
       "      <td>357</td>\n",
       "      <td>16925</td>\n",
       "      <td>307</td>\n",
       "      <td>20</td>\n",
       "      <td>0</td>\n",
       "      <td>80</td>\n",
       "      <td>2.03</td>\n",
       "      <td>96.22</td>\n",
       "      <td>2.11</td>\n",
       "      <td>18383956</td>\n",
       "      <td>957.0</td>\n",
       "      <td>0.11</td>\n",
       "      <td>0</td>\n",
       "      <td>1</td>\n",
       "    </tr>\n",
       "    <tr>\n",
       "      <th>188</th>\n",
       "      <td>188</td>\n",
       "      <td>Zimbabwe</td>\n",
       "      <td>9822</td>\n",
       "      <td>275</td>\n",
       "      <td>8472</td>\n",
       "      <td>1075</td>\n",
       "      <td>108</td>\n",
       "      <td>0</td>\n",
       "      <td>2</td>\n",
       "      <td>2.80</td>\n",
       "      <td>86.26</td>\n",
       "      <td>3.25</td>\n",
       "      <td>14862927</td>\n",
       "      <td>661.0</td>\n",
       "      <td>0.73</td>\n",
       "      <td>0</td>\n",
       "      <td>1</td>\n",
       "    </tr>\n",
       "  </tbody>\n",
       "</table>\n",
       "<p>189 rows × 17 columns</p>\n",
       "</div>"
      ],
      "text/plain": [
       "     Unnamed: 0             Country  Confirmed  Death  Recovered  Active  \\\n",
       "0             0         Afghanistan      45966   1752      36709    7505   \n",
       "1             1             Albania      36790    787      18152   17851   \n",
       "2             2             Algeria      81212   2393      52568   26251   \n",
       "3             3             Andorra       6610     76       5710     824   \n",
       "4             4              Angola      15087    345       7763    6979   \n",
       "..          ...                 ...        ...    ...        ...     ...   \n",
       "184         184  West Bank and Gaza      81890    704      62944   18242   \n",
       "185         185      Western Sahara         10      1          8       1   \n",
       "186         186               Yemen       2160    615       1498      47   \n",
       "187         187              Zambia      17589    357      16925     307   \n",
       "188         188            Zimbabwe       9822    275       8472    1075   \n",
       "\n",
       "     New cases  New death  New recovered  Death/100 Cases  \\\n",
       "0          127         12            414             3.81   \n",
       "1          545         16            397             2.14   \n",
       "2         1044         21            622             2.95   \n",
       "3            0          0              0             1.15   \n",
       "4           79          3             66             2.29   \n",
       "..         ...        ...            ...              ...   \n",
       "184       1461         15            984             0.86   \n",
       "185          0          0              0            10.00   \n",
       "186         12          1              7            28.47   \n",
       "187         20          0             80             2.03   \n",
       "188        108          0              2             2.80   \n",
       "\n",
       "     Recovered/100 Cases  Death/100 Recovered  Population  \\\n",
       "0                  79.86                 4.77    38928341   \n",
       "1                  49.34                 4.34     2877800   \n",
       "2                  64.73                 4.55    43851043   \n",
       "3                  86.38                 1.33       77265   \n",
       "4                  51.45                 4.44    32866268   \n",
       "..                   ...                  ...         ...   \n",
       "184                76.86                 1.12     4543126   \n",
       "185                80.00                12.50      597330   \n",
       "186                69.35                41.05    29825968   \n",
       "187                96.22                 2.11    18383956   \n",
       "188                86.26                 3.25    14862927   \n",
       "\n",
       "     Cases/Million People  Incidence rate  Risk  km_cluster  \n",
       "0                  1181.0            0.33     0           1  \n",
       "1                 12784.0           18.94     2           1  \n",
       "2                  1852.0            2.38     1           1  \n",
       "3                 85550.0            0.00     0           1  \n",
       "4                   459.0            0.24     0           1  \n",
       "..                    ...             ...   ...         ...  \n",
       "184               18025.0           32.16     2           1  \n",
       "185                  17.0            0.00     0           1  \n",
       "186                  72.0            0.04     0           1  \n",
       "187                 957.0            0.11     0           1  \n",
       "188                 661.0            0.73     0           1  \n",
       "\n",
       "[189 rows x 17 columns]"
      ]
     },
     "execution_count": 37,
     "metadata": {},
     "output_type": "execute_result"
    }
   ],
   "source": [
    "countrywise"
   ]
  },
  {
   "cell_type": "code",
   "execution_count": 38,
   "metadata": {},
   "outputs": [],
   "source": [
    "# 0 - low, 1 - mid, 2 - high\n",
    "low = countrywise[countrywise.Risk == 0]\n",
    "mid = countrywise[countrywise.Risk == 1]\n",
    "high = countrywise[countrywise.Risk == 2]"
   ]
  },
  {
   "cell_type": "code",
   "execution_count": 39,
   "metadata": {},
   "outputs": [
    {
     "data": {
      "image/png": "[encoded data removed]",
      "text/plain": [
       "<Figure size 432x288 with 1 Axes>"
      ]
     },
     "metadata": {
      "needs_background": "light"
     },
     "output_type": "display_data"
    }
   ],
   "source": [
    "plt.xlabel('Confirmed')\n",
    "plt.ylabel('Death')\n",
    "plt.scatter(low['Confirmed'], low['Death'], color='green', marker='+')\n",
    "plt.scatter(high['Confirmed'], high['Death'], color='blue', marker='.')\n",
    "plt.show()"
   ]
  },
  {
   "cell_type": "markdown",
   "metadata": {},
   "source": [
    "#### This will explain why KNN and SVM bad at predicting due to no clusters"
   ]
  },
  {
   "cell_type": "code",
   "execution_count": 40,
   "metadata": {},
   "outputs": [],
   "source": [
    "x = countrywise[['New cases', 'Population', 'Incidence rate']] #Features\n",
    "y = countrywise['Risk'] #Label"
   ]
  },
  {
   "cell_type": "code",
   "execution_count": 41,
   "metadata": {},
   "outputs": [],
   "source": [
    "x_train, x_test, y_train, y_test = train_test_split(x, y, test_size = 0.3)"
   ]
  },
  {
   "cell_type": "code",
   "execution_count": 42,
   "metadata": {},
   "outputs": [
    {
     "data": {
      "text/plain": [
       "0.3684210526315789"
      ]
     },
     "execution_count": 42,
     "metadata": {},
     "output_type": "execute_result"
    }
   ],
   "source": [
    "from sklearn.svm import SVC\n",
    "svm = SVC().fit(x_train, y_train)\n",
    "svm_predict = svm.predict(x_test)\n",
    "accuracy_score(y_test, svm_predict)"
   ]
  },
  {
   "cell_type": "code",
   "execution_count": 43,
   "metadata": {},
   "outputs": [
    {
     "data": {
      "image/png": "[encoded data removed]",
      "text/plain": [
       "<Figure size 432x288 with 1 Axes>"
      ]
     },
     "metadata": {
      "needs_background": "light"
     },
     "output_type": "display_data"
    }
   ],
   "source": [
    "plt.xlabel('Cases/Million People')\n",
    "plt.ylabel('Incidence rate')\n",
    "plt.scatter(low['Cases/Million People'], low['Incidence rate'], color='green', marker='+')\n",
    "plt.scatter(high['Cases/Million People'], high['Incidence rate'], color='blue', marker='.')\n",
    "plt.show()"
   ]
  },
  {
   "cell_type": "markdown",
   "metadata": {},
   "source": [
    "# Logistic Regression"
   ]
  },
  {
   "cell_type": "code",
   "execution_count": 44,
   "metadata": {},
   "outputs": [
    {
     "data": {
      "image/png": "[encoded data removed]",
      "text/plain": [
       "<Figure size 432x288 with 1 Axes>"
      ]
     },
     "metadata": {
      "needs_background": "light"
     },
     "output_type": "display_data"
    }
   ],
   "source": [
    "plt.xlabel('Confirmed')\n",
    "plt.ylabel('Risk')\n",
    "plt.scatter(countrywise.Confirmed, countrywise.Risk, marker='+', color='red')\n",
    "plt.show()"
   ]
  },
  {
   "cell_type": "code",
   "execution_count": 45,
   "metadata": {},
   "outputs": [],
   "source": [
    "x_train, x_test, y_train, y_test = train_test_split(countrywise, countrywise['Risk'], test_size = 0.3)"
   ]
  },
  {
   "cell_type": "code",
   "execution_count": 46,
   "metadata": {},
   "outputs": [
    {
     "data": {
      "text/plain": [
       "0.3684210526315789"
      ]
     },
     "execution_count": 46,
     "metadata": {},
     "output_type": "execute_result"
    }
   ],
   "source": [
    "from sklearn.linear_model import LogisticRegression\n",
    "lr = LogisticRegression().fit(x_train[['Confirmed']], x_train['Risk'])\n",
    "lr_predict = lr.predict(x_test[['Confirmed']])\n",
    "accuracy_score(y_test, lr_predict)"
   ]
  },
  {
   "cell_type": "code",
   "execution_count": null,
   "metadata": {},
   "outputs": [],
   "source": []
  }
 ],
 "metadata": {
  "kernelspec": {
   "display_name": "Python 3",
   "language": "python",
   "name": "python3"
  },
  "language_info": {
   "codemirror_mode": {
    "name": "ipython",
    "version": 3
   },
   "file_extension": ".py",
   "mimetype": "text/x-python",
   "name": "python",
   "nbconvert_exporter": "python",
   "pygments_lexer": "ipython3",
   "version": "3.8.3"
  }
 },
 "nbformat": 4,
 "nbformat_minor": 4
}
