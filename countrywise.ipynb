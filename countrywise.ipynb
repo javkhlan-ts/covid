{
 "cells": [
  {
   "cell_type": "markdown",
   "metadata": {},
   "source": [
    "# COUNTRYWISE"
   ]
  },
  {
   "cell_type": "markdown",
   "metadata": {},
   "source": [
    "##### Total cases per countries till the most resent date (in the 5th line), plus cases per million people"
   ]
  },
  {
   "cell_type": "code",
   "execution_count": 1,
   "metadata": {},
   "outputs": [],
   "source": [
    "import pandas as pd\n",
    "import numpy as np"
   ]
  },
  {
   "cell_type": "code",
   "execution_count": 2,
   "metadata": {},
   "outputs": [],
   "source": [
    "path='/Users/javkhlan/Desktop/Projects/Data Visualization in Python/DB3/country_daywise.csv'\n",
    "df = pd.read_csv(path)"
   ]
  },
  {
   "cell_type": "code",
   "execution_count": 3,
   "metadata": {},
   "outputs": [
    {
     "data": {
      "text/plain": [
       "'2020-11-28'"
      ]
     },
     "execution_count": 3,
     "metadata": {},
     "output_type": "execute_result"
    }
   ],
   "source": [
    "most_recent_date = df['Date'].max()\n",
    "most_recent_date"
   ]
  },
  {
   "cell_type": "code",
   "execution_count": 4,
   "metadata": {},
   "outputs": [
    {
     "data": {
      "text/html": [
       "<div>\n",
       "<style scoped>\n",
       "    .dataframe tbody tr th:only-of-type {\n",
       "        vertical-align: middle;\n",
       "    }\n",
       "\n",
       "    .dataframe tbody tr th {\n",
       "        vertical-align: top;\n",
       "    }\n",
       "\n",
       "    .dataframe thead th {\n",
       "        text-align: right;\n",
       "    }\n",
       "</style>\n",
       "<table border=\"1\" class=\"dataframe\">\n",
       "  <thead>\n",
       "    <tr style=\"text-align: right;\">\n",
       "      <th></th>\n",
       "      <th>Country</th>\n",
       "      <th>Population</th>\n",
       "    </tr>\n",
       "  </thead>\n",
       "  <tbody>\n",
       "    <tr>\n",
       "      <th>0</th>\n",
       "      <td>Afghanistan</td>\n",
       "      <td>38928341</td>\n",
       "    </tr>\n",
       "    <tr>\n",
       "      <th>1</th>\n",
       "      <td>Albania</td>\n",
       "      <td>2877800</td>\n",
       "    </tr>\n",
       "    <tr>\n",
       "      <th>2</th>\n",
       "      <td>Algeria</td>\n",
       "      <td>43851043</td>\n",
       "    </tr>\n",
       "    <tr>\n",
       "      <th>3</th>\n",
       "      <td>Andorra</td>\n",
       "      <td>77265</td>\n",
       "    </tr>\n",
       "    <tr>\n",
       "      <th>4</th>\n",
       "      <td>Angola</td>\n",
       "      <td>32866268</td>\n",
       "    </tr>\n",
       "  </tbody>\n",
       "</table>\n",
       "</div>"
      ],
      "text/plain": [
       "       Country  Population\n",
       "0  Afghanistan    38928341\n",
       "1      Albania     2877800\n",
       "2      Algeria    43851043\n",
       "3      Andorra       77265\n",
       "4       Angola    32866268"
      ]
     },
     "execution_count": 4,
     "metadata": {},
     "output_type": "execute_result"
    }
   ],
   "source": [
    "path_pop = '/Users/javkhlan/Desktop/Projects/Data Visualization in Python/DB3/countrywise_population.csv'\n",
    "population = pd.read_csv(path_pop)\n",
    "population.head()"
   ]
  },
  {
   "cell_type": "code",
   "execution_count": 5,
   "metadata": {},
   "outputs": [],
   "source": [
    "df = df.loc[df['Date'] == most_recent_date]"
   ]
  },
  {
   "cell_type": "code",
   "execution_count": 6,
   "metadata": {},
   "outputs": [
    {
     "data": {
      "text/html": [
       "<div>\n",
       "<style scoped>\n",
       "    .dataframe tbody tr th:only-of-type {\n",
       "        vertical-align: middle;\n",
       "    }\n",
       "\n",
       "    .dataframe tbody tr th {\n",
       "        vertical-align: top;\n",
       "    }\n",
       "\n",
       "    .dataframe thead th {\n",
       "        text-align: right;\n",
       "    }\n",
       "</style>\n",
       "<table border=\"1\" class=\"dataframe\">\n",
       "  <thead>\n",
       "    <tr style=\"text-align: right;\">\n",
       "      <th></th>\n",
       "      <th>Date</th>\n",
       "      <th>Country</th>\n",
       "      <th>Confirmed</th>\n",
       "      <th>Death</th>\n",
       "      <th>Recovered</th>\n",
       "      <th>Active</th>\n",
       "      <th>New cases</th>\n",
       "    </tr>\n",
       "  </thead>\n",
       "  <tbody>\n",
       "    <tr>\n",
       "      <th>59401</th>\n",
       "      <td>2020-11-28</td>\n",
       "      <td>Afghanistan</td>\n",
       "      <td>45966</td>\n",
       "      <td>1752</td>\n",
       "      <td>36709</td>\n",
       "      <td>7505</td>\n",
       "      <td>127</td>\n",
       "    </tr>\n",
       "    <tr>\n",
       "      <th>59402</th>\n",
       "      <td>2020-11-28</td>\n",
       "      <td>Albania</td>\n",
       "      <td>36790</td>\n",
       "      <td>787</td>\n",
       "      <td>18152</td>\n",
       "      <td>17851</td>\n",
       "      <td>545</td>\n",
       "    </tr>\n",
       "    <tr>\n",
       "      <th>59403</th>\n",
       "      <td>2020-11-28</td>\n",
       "      <td>Algeria</td>\n",
       "      <td>81212</td>\n",
       "      <td>2393</td>\n",
       "      <td>52568</td>\n",
       "      <td>26251</td>\n",
       "      <td>1044</td>\n",
       "    </tr>\n",
       "  </tbody>\n",
       "</table>\n",
       "</div>"
      ],
      "text/plain": [
       "             Date      Country  Confirmed  Death  Recovered  Active  New cases\n",
       "59401  2020-11-28  Afghanistan      45966   1752      36709    7505        127\n",
       "59402  2020-11-28      Albania      36790    787      18152   17851        545\n",
       "59403  2020-11-28      Algeria      81212   2393      52568   26251       1044"
      ]
     },
     "execution_count": 6,
     "metadata": {},
     "output_type": "execute_result"
    }
   ],
   "source": [
    "df.drop(['New death', 'New recovered'], axis=1).head(3)"
   ]
  },
  {
   "cell_type": "code",
   "execution_count": 7,
   "metadata": {},
   "outputs": [],
   "source": [
    "df['Death/100 Cases'] = (df['Death'] / df['Confirmed'] * 100).round(decimals=2)\n",
    "df['Recovered/100 Cases'] = (df['Recovered'] / df['Confirmed'] * 100).round(decimals=2)\n",
    "df['Death/100 Recovered'] = (df['Death'] / df['Recovered'] * 100).round(decimals=2)"
   ]
  },
  {
   "cell_type": "code",
   "execution_count": 8,
   "metadata": {},
   "outputs": [],
   "source": [
    "df.drop(df[df['Country'] == 'Diamond Princess'].index, inplace = True)"
   ]
  },
  {
   "cell_type": "code",
   "execution_count": 9,
   "metadata": {},
   "outputs": [],
   "source": [
    "df = df.reset_index(drop=True)"
   ]
  },
  {
   "cell_type": "code",
   "execution_count": 10,
   "metadata": {},
   "outputs": [],
   "source": [
    "df = pd.merge(df, population, on=['Country'], how='inner')"
   ]
  },
  {
   "cell_type": "code",
   "execution_count": 11,
   "metadata": {},
   "outputs": [],
   "source": [
    "df['Cases/Million People'] = (df['Confirmed'] / df['Population'] * 1000000).round(decimals=0)"
   ]
  },
  {
   "cell_type": "code",
   "execution_count": 12,
   "metadata": {},
   "outputs": [],
   "source": [
    "df = df.drop(['Date'], axis=1)"
   ]
  },
  {
   "cell_type": "code",
   "execution_count": 13,
   "metadata": {},
   "outputs": [
    {
     "data": {
      "text/html": [
       "<div>\n",
       "<style scoped>\n",
       "    .dataframe tbody tr th:only-of-type {\n",
       "        vertical-align: middle;\n",
       "    }\n",
       "\n",
       "    .dataframe tbody tr th {\n",
       "        vertical-align: top;\n",
       "    }\n",
       "\n",
       "    .dataframe thead th {\n",
       "        text-align: right;\n",
       "    }\n",
       "</style>\n",
       "<table border=\"1\" class=\"dataframe\">\n",
       "  <thead>\n",
       "    <tr style=\"text-align: right;\">\n",
       "      <th></th>\n",
       "      <th>Country</th>\n",
       "      <th>Confirmed</th>\n",
       "      <th>Death</th>\n",
       "      <th>Recovered</th>\n",
       "      <th>Active</th>\n",
       "      <th>New cases</th>\n",
       "      <th>New death</th>\n",
       "      <th>New recovered</th>\n",
       "      <th>Death/100 Cases</th>\n",
       "      <th>Recovered/100 Cases</th>\n",
       "      <th>Death/100 Recovered</th>\n",
       "      <th>Population</th>\n",
       "      <th>Cases/Million People</th>\n",
       "    </tr>\n",
       "  </thead>\n",
       "  <tbody>\n",
       "    <tr>\n",
       "      <th>0</th>\n",
       "      <td>Afghanistan</td>\n",
       "      <td>45966</td>\n",
       "      <td>1752</td>\n",
       "      <td>36709</td>\n",
       "      <td>7505</td>\n",
       "      <td>127</td>\n",
       "      <td>12</td>\n",
       "      <td>414</td>\n",
       "      <td>3.81</td>\n",
       "      <td>79.86</td>\n",
       "      <td>4.77</td>\n",
       "      <td>38928341</td>\n",
       "      <td>1181.0</td>\n",
       "    </tr>\n",
       "    <tr>\n",
       "      <th>1</th>\n",
       "      <td>Albania</td>\n",
       "      <td>36790</td>\n",
       "      <td>787</td>\n",
       "      <td>18152</td>\n",
       "      <td>17851</td>\n",
       "      <td>545</td>\n",
       "      <td>16</td>\n",
       "      <td>397</td>\n",
       "      <td>2.14</td>\n",
       "      <td>49.34</td>\n",
       "      <td>4.34</td>\n",
       "      <td>2877800</td>\n",
       "      <td>12784.0</td>\n",
       "    </tr>\n",
       "    <tr>\n",
       "      <th>2</th>\n",
       "      <td>Algeria</td>\n",
       "      <td>81212</td>\n",
       "      <td>2393</td>\n",
       "      <td>52568</td>\n",
       "      <td>26251</td>\n",
       "      <td>1044</td>\n",
       "      <td>21</td>\n",
       "      <td>622</td>\n",
       "      <td>2.95</td>\n",
       "      <td>64.73</td>\n",
       "      <td>4.55</td>\n",
       "      <td>43851043</td>\n",
       "      <td>1852.0</td>\n",
       "    </tr>\n",
       "    <tr>\n",
       "      <th>3</th>\n",
       "      <td>Andorra</td>\n",
       "      <td>6610</td>\n",
       "      <td>76</td>\n",
       "      <td>5710</td>\n",
       "      <td>824</td>\n",
       "      <td>0</td>\n",
       "      <td>0</td>\n",
       "      <td>0</td>\n",
       "      <td>1.15</td>\n",
       "      <td>86.38</td>\n",
       "      <td>1.33</td>\n",
       "      <td>77265</td>\n",
       "      <td>85550.0</td>\n",
       "    </tr>\n",
       "    <tr>\n",
       "      <th>4</th>\n",
       "      <td>Angola</td>\n",
       "      <td>15087</td>\n",
       "      <td>345</td>\n",
       "      <td>7763</td>\n",
       "      <td>6979</td>\n",
       "      <td>79</td>\n",
       "      <td>3</td>\n",
       "      <td>66</td>\n",
       "      <td>2.29</td>\n",
       "      <td>51.45</td>\n",
       "      <td>4.44</td>\n",
       "      <td>32866268</td>\n",
       "      <td>459.0</td>\n",
       "    </tr>\n",
       "  </tbody>\n",
       "</table>\n",
       "</div>"
      ],
      "text/plain": [
       "       Country  Confirmed  Death  Recovered  Active  New cases  New death  \\\n",
       "0  Afghanistan      45966   1752      36709    7505        127         12   \n",
       "1      Albania      36790    787      18152   17851        545         16   \n",
       "2      Algeria      81212   2393      52568   26251       1044         21   \n",
       "3      Andorra       6610     76       5710     824          0          0   \n",
       "4       Angola      15087    345       7763    6979         79          3   \n",
       "\n",
       "   New recovered  Death/100 Cases  Recovered/100 Cases  Death/100 Recovered  \\\n",
       "0            414             3.81                79.86                 4.77   \n",
       "1            397             2.14                49.34                 4.34   \n",
       "2            622             2.95                64.73                 4.55   \n",
       "3              0             1.15                86.38                 1.33   \n",
       "4             66             2.29                51.45                 4.44   \n",
       "\n",
       "   Population  Cases/Million People  \n",
       "0    38928341                1181.0  \n",
       "1     2877800               12784.0  \n",
       "2    43851043                1852.0  \n",
       "3       77265               85550.0  \n",
       "4    32866268                 459.0  "
      ]
     },
     "execution_count": 13,
     "metadata": {},
     "output_type": "execute_result"
    }
   ],
   "source": [
    "df.head()"
   ]
  },
  {
   "cell_type": "code",
   "execution_count": 14,
   "metadata": {},
   "outputs": [],
   "source": [
    "df.to_csv(r'/Users/javkhlan/Desktop/Projects/Data Visualization in Python/DB3/countrywise.csv')"
   ]
  }
 ],
 "metadata": {
  "kernelspec": {
   "display_name": "Python 3",
   "language": "python",
   "name": "python3"
  },
  "language_info": {
   "codemirror_mode": {
    "name": "ipython",
    "version": 3
   },
   "file_extension": ".py",
   "mimetype": "text/x-python",
   "name": "python",
   "nbconvert_exporter": "python",
   "pygments_lexer": "ipython3",
   "version": "3.8.3"
  }
 },
 "nbformat": 4,
 "nbformat_minor": 4
}
