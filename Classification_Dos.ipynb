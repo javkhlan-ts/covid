{
 "cells": [
  {
   "cell_type": "code",
   "execution_count": 1,
   "metadata": {},
   "outputs": [],
   "source": [
    "#imports\n",
    "import plotly.express as px\n",
    "import plotly.graph_objects as go\n",
    "import plotly.figure_factory as ff\n",
    "from plotly.subplots import make_subplots\n",
    "\n",
    "import folium\n",
    "\n",
    "import pandas as pd\n",
    "import numpy as np\n",
    "import matplotlib.pyplot as plt\n",
    "\n",
    "%matplotlib inline\n",
    "\n",
    "import math\n",
    "import random\n",
    "from datetime import timedelta\n",
    "\n",
    "import warnings\n",
    "warnings.filterwarnings('ignore')\n",
    "\n",
    "#color pallete\n",
    "cnf='#393e46'\n",
    "dth='#ff2e63'\n",
    "rec='#21bf73'\n",
    "act='#fe9801'\n",
    "\n",
    "#dataframes\n",
    "df = pd.read_csv('/Users/javkhlan/Desktop/Projects/Data Visualization in Python/DB3/covid19_data_cleaned.csv', parse_dates=['Date'], index_col=0)\n",
    "country_daywise = pd.read_csv('/Users/javkhlan/Desktop/Projects/Data Visualization in Python/DB3/country_daywise.csv', parse_dates=['Date'])\n",
    "countrywise = pd.read_csv('/Users/javkhlan/Desktop/Projects/Data Visualization in Python/DB3/countrywise.csv',index_col=0)\n",
    "daywise = pd.read_csv('/Users/javkhlan/Desktop/Projects/Data Visualization in Python/DB3/daywise.csv', parse_dates=['Date'])"
   ]
  },
  {
   "cell_type": "code",
   "execution_count": 2,
   "metadata": {},
   "outputs": [
    {
     "data": {
      "text/html": [
       "<div>\n",
       "<style scoped>\n",
       "    .dataframe tbody tr th:only-of-type {\n",
       "        vertical-align: middle;\n",
       "    }\n",
       "\n",
       "    .dataframe tbody tr th {\n",
       "        vertical-align: top;\n",
       "    }\n",
       "\n",
       "    .dataframe thead th {\n",
       "        text-align: right;\n",
       "    }\n",
       "</style>\n",
       "<table border=\"1\" class=\"dataframe\">\n",
       "  <thead>\n",
       "    <tr style=\"text-align: right;\">\n",
       "      <th></th>\n",
       "      <th>Country</th>\n",
       "      <th>Confirmed</th>\n",
       "      <th>Death</th>\n",
       "      <th>Recovered</th>\n",
       "      <th>Population</th>\n",
       "    </tr>\n",
       "  </thead>\n",
       "  <tbody>\n",
       "    <tr>\n",
       "      <th>0</th>\n",
       "      <td>Afghanistan</td>\n",
       "      <td>45966</td>\n",
       "      <td>1752</td>\n",
       "      <td>36709</td>\n",
       "      <td>38928341</td>\n",
       "    </tr>\n",
       "    <tr>\n",
       "      <th>1</th>\n",
       "      <td>Albania</td>\n",
       "      <td>36790</td>\n",
       "      <td>787</td>\n",
       "      <td>18152</td>\n",
       "      <td>2877800</td>\n",
       "    </tr>\n",
       "    <tr>\n",
       "      <th>2</th>\n",
       "      <td>Algeria</td>\n",
       "      <td>81212</td>\n",
       "      <td>2393</td>\n",
       "      <td>52568</td>\n",
       "      <td>43851043</td>\n",
       "    </tr>\n",
       "    <tr>\n",
       "      <th>3</th>\n",
       "      <td>Andorra</td>\n",
       "      <td>6610</td>\n",
       "      <td>76</td>\n",
       "      <td>5710</td>\n",
       "      <td>77265</td>\n",
       "    </tr>\n",
       "    <tr>\n",
       "      <th>4</th>\n",
       "      <td>Angola</td>\n",
       "      <td>15087</td>\n",
       "      <td>345</td>\n",
       "      <td>7763</td>\n",
       "      <td>32866268</td>\n",
       "    </tr>\n",
       "  </tbody>\n",
       "</table>\n",
       "</div>"
      ],
      "text/plain": [
       "       Country  Confirmed  Death  Recovered  Population\n",
       "0  Afghanistan      45966   1752      36709    38928341\n",
       "1      Albania      36790    787      18152     2877800\n",
       "2      Algeria      81212   2393      52568    43851043\n",
       "3      Andorra       6610     76       5710       77265\n",
       "4       Angola      15087    345       7763    32866268"
      ]
     },
     "execution_count": 2,
     "metadata": {},
     "output_type": "execute_result"
    }
   ],
   "source": [
    "countrywise.drop(countrywise.iloc[:, 4:11], inplace = True, axis = 1)\n",
    "countrywise.drop('Cases/Million People', inplace = True, axis = 1)\n",
    "countrywise.head()"
   ]
  },
  {
   "cell_type": "code",
   "execution_count": 3,
   "metadata": {},
   "outputs": [],
   "source": [
    "#Incidence rate formula 100K to 10K\n",
    "countrywise['Incidence rate'] = (countrywise['Confirmed']/countrywise['Population']*10000).round(decimals=2)"
   ]
  },
  {
   "cell_type": "code",
   "execution_count": 4,
   "metadata": {},
   "outputs": [],
   "source": [
    "#Incidence rate >3 : high risk\n",
    "#Incidence rate >1.5 : moderate\n",
    "#Incidence rate < 1.5 : low\n",
    "\n",
    "risk = []\n",
    "for i in countrywise['Incidence rate']:\n",
    "    if(i < 1.5):\n",
    "        risk.append(0)\n",
    "    elif (i < 3):\n",
    "        risk.append(1)\n",
    "    else:\n",
    "        risk.append(2)\n",
    "        \n",
    "countrywise['Risk'] = risk"
   ]
  },
  {
   "cell_type": "code",
   "execution_count": 5,
   "metadata": {},
   "outputs": [
    {
     "data": {
      "text/html": [
       "<div>\n",
       "<style scoped>\n",
       "    .dataframe tbody tr th:only-of-type {\n",
       "        vertical-align: middle;\n",
       "    }\n",
       "\n",
       "    .dataframe tbody tr th {\n",
       "        vertical-align: top;\n",
       "    }\n",
       "\n",
       "    .dataframe thead th {\n",
       "        text-align: right;\n",
       "    }\n",
       "</style>\n",
       "<table border=\"1\" class=\"dataframe\">\n",
       "  <thead>\n",
       "    <tr style=\"text-align: right;\">\n",
       "      <th></th>\n",
       "      <th>Country</th>\n",
       "      <th>Confirmed</th>\n",
       "      <th>Death</th>\n",
       "      <th>Recovered</th>\n",
       "      <th>Population</th>\n",
       "      <th>Incidence rate</th>\n",
       "      <th>Risk</th>\n",
       "    </tr>\n",
       "  </thead>\n",
       "  <tbody>\n",
       "    <tr>\n",
       "      <th>184</th>\n",
       "      <td>West Bank and Gaza</td>\n",
       "      <td>81890</td>\n",
       "      <td>704</td>\n",
       "      <td>62944</td>\n",
       "      <td>4543126</td>\n",
       "      <td>180.25</td>\n",
       "      <td>2</td>\n",
       "    </tr>\n",
       "    <tr>\n",
       "      <th>185</th>\n",
       "      <td>Western Sahara</td>\n",
       "      <td>10</td>\n",
       "      <td>1</td>\n",
       "      <td>8</td>\n",
       "      <td>597330</td>\n",
       "      <td>0.17</td>\n",
       "      <td>0</td>\n",
       "    </tr>\n",
       "    <tr>\n",
       "      <th>186</th>\n",
       "      <td>Yemen</td>\n",
       "      <td>2160</td>\n",
       "      <td>615</td>\n",
       "      <td>1498</td>\n",
       "      <td>29825968</td>\n",
       "      <td>0.72</td>\n",
       "      <td>0</td>\n",
       "    </tr>\n",
       "    <tr>\n",
       "      <th>187</th>\n",
       "      <td>Zambia</td>\n",
       "      <td>17589</td>\n",
       "      <td>357</td>\n",
       "      <td>16925</td>\n",
       "      <td>18383956</td>\n",
       "      <td>9.57</td>\n",
       "      <td>2</td>\n",
       "    </tr>\n",
       "    <tr>\n",
       "      <th>188</th>\n",
       "      <td>Zimbabwe</td>\n",
       "      <td>9822</td>\n",
       "      <td>275</td>\n",
       "      <td>8472</td>\n",
       "      <td>14862927</td>\n",
       "      <td>6.61</td>\n",
       "      <td>2</td>\n",
       "    </tr>\n",
       "  </tbody>\n",
       "</table>\n",
       "</div>"
      ],
      "text/plain": [
       "                Country  Confirmed  Death  Recovered  Population  \\\n",
       "184  West Bank and Gaza      81890    704      62944     4543126   \n",
       "185      Western Sahara         10      1          8      597330   \n",
       "186               Yemen       2160    615       1498    29825968   \n",
       "187              Zambia      17589    357      16925    18383956   \n",
       "188            Zimbabwe       9822    275       8472    14862927   \n",
       "\n",
       "     Incidence rate  Risk  \n",
       "184          180.25     2  \n",
       "185            0.17     0  \n",
       "186            0.72     0  \n",
       "187            9.57     2  \n",
       "188            6.61     2  "
      ]
     },
     "execution_count": 5,
     "metadata": {},
     "output_type": "execute_result"
    }
   ],
   "source": [
    "countrywise.tail()"
   ]
  },
  {
   "cell_type": "markdown",
   "metadata": {},
   "source": [
    "### General Imports for Classification and Regression"
   ]
  },
  {
   "cell_type": "code",
   "execution_count": 6,
   "metadata": {},
   "outputs": [],
   "source": [
    "from sklearn.model_selection import train_test_split\n",
    "from sklearn.metrics import mean_squared_error, r2_score\n",
    "from sklearn.metrics import accuracy_score"
   ]
  },
  {
   "cell_type": "markdown",
   "metadata": {},
   "source": [
    "### Linear Regression"
   ]
  },
  {
   "cell_type": "code",
   "execution_count": 7,
   "metadata": {},
   "outputs": [],
   "source": [
    "from sklearn.linear_model import LinearRegression"
   ]
  },
  {
   "cell_type": "code",
   "execution_count": 8,
   "metadata": {},
   "outputs": [
    {
     "name": "stdout",
     "output_type": "stream",
     "text": [
      "R-Square: -0.01\n"
     ]
    }
   ],
   "source": [
    "#Incidence Rate vs. Risk\n",
    "x = np.array(countrywise)[:, 5]\n",
    "y = np.array(countrywise)[:, 6]\n",
    "\n",
    "# 1D to 2D array\n",
    "x = x.reshape(-1,1)\n",
    "y = y.reshape(-1,1)\n",
    "\n",
    "x_train, x_test, y_train, y_test = train_test_split(x, y, test_size = 0.3)\n",
    "linearRegression = LinearRegression().fit(x_train, y_train)\n",
    "lr_predict = linearRegression.predict(x_test)\n",
    "print('R-Square: %.2f'%r2_score(y_test, lr_predict))"
   ]
  },
  {
   "cell_type": "code",
   "execution_count": 9,
   "metadata": {},
   "outputs": [
    {
     "data": {
      "image/png": "[encoded data removed]",
      "text/plain": [
       "<Figure size 432x288 with 1 Axes>"
      ]
     },
     "metadata": {
      "needs_background": "light"
     },
     "output_type": "display_data"
    }
   ],
   "source": [
    "plt.scatter(x_test, y_test, linewidths=0.1, alpha=0.5)\n",
    "plt.xlabel('Incidence Rate')\n",
    "plt.ylabel('Risk')\n",
    "plt.title('Actual Scatter')\n",
    "plt.show()"
   ]
  },
  {
   "cell_type": "code",
   "execution_count": 10,
   "metadata": {},
   "outputs": [
    {
     "data": {
      "image/png": "[encoded data removed]",
      "text/plain": [
       "<Figure size 432x288 with 1 Axes>"
      ]
     },
     "metadata": {
      "needs_background": "light"
     },
     "output_type": "display_data"
    }
   ],
   "source": [
    "plt.plot(x_test, lr_predict, color='green', linewidth = 3)\n",
    "plt.xlabel('Incidence Rate')\n",
    "plt.ylabel('Rate')\n",
    "plt.title('Linear Regression Prediction')\n",
    "plt.show()"
   ]
  },
  {
   "cell_type": "code",
   "execution_count": 11,
   "metadata": {},
   "outputs": [
    {
     "data": {
      "text/html": [
       "<div>\n",
       "<style scoped>\n",
       "    .dataframe tbody tr th:only-of-type {\n",
       "        vertical-align: middle;\n",
       "    }\n",
       "\n",
       "    .dataframe tbody tr th {\n",
       "        vertical-align: top;\n",
       "    }\n",
       "\n",
       "    .dataframe thead th {\n",
       "        text-align: right;\n",
       "    }\n",
       "</style>\n",
       "<table border=\"1\" class=\"dataframe\">\n",
       "  <thead>\n",
       "    <tr style=\"text-align: right;\">\n",
       "      <th></th>\n",
       "      <th>Country</th>\n",
       "      <th>Confirmed</th>\n",
       "      <th>Death</th>\n",
       "      <th>Recovered</th>\n",
       "      <th>Population</th>\n",
       "      <th>Incidence rate</th>\n",
       "      <th>Risk</th>\n",
       "    </tr>\n",
       "  </thead>\n",
       "  <tbody>\n",
       "    <tr>\n",
       "      <th>0</th>\n",
       "      <td>Afghanistan</td>\n",
       "      <td>45966</td>\n",
       "      <td>1752</td>\n",
       "      <td>36709</td>\n",
       "      <td>38928341</td>\n",
       "      <td>11.81</td>\n",
       "      <td>2</td>\n",
       "    </tr>\n",
       "    <tr>\n",
       "      <th>1</th>\n",
       "      <td>Albania</td>\n",
       "      <td>36790</td>\n",
       "      <td>787</td>\n",
       "      <td>18152</td>\n",
       "      <td>2877800</td>\n",
       "      <td>127.84</td>\n",
       "      <td>2</td>\n",
       "    </tr>\n",
       "    <tr>\n",
       "      <th>2</th>\n",
       "      <td>Algeria</td>\n",
       "      <td>81212</td>\n",
       "      <td>2393</td>\n",
       "      <td>52568</td>\n",
       "      <td>43851043</td>\n",
       "      <td>18.52</td>\n",
       "      <td>2</td>\n",
       "    </tr>\n",
       "    <tr>\n",
       "      <th>3</th>\n",
       "      <td>Andorra</td>\n",
       "      <td>6610</td>\n",
       "      <td>76</td>\n",
       "      <td>5710</td>\n",
       "      <td>77265</td>\n",
       "      <td>855.50</td>\n",
       "      <td>2</td>\n",
       "    </tr>\n",
       "    <tr>\n",
       "      <th>4</th>\n",
       "      <td>Angola</td>\n",
       "      <td>15087</td>\n",
       "      <td>345</td>\n",
       "      <td>7763</td>\n",
       "      <td>32866268</td>\n",
       "      <td>4.59</td>\n",
       "      <td>2</td>\n",
       "    </tr>\n",
       "  </tbody>\n",
       "</table>\n",
       "</div>"
      ],
      "text/plain": [
       "       Country  Confirmed  Death  Recovered  Population  Incidence rate  Risk\n",
       "0  Afghanistan      45966   1752      36709    38928341           11.81     2\n",
       "1      Albania      36790    787      18152     2877800          127.84     2\n",
       "2      Algeria      81212   2393      52568    43851043           18.52     2\n",
       "3      Andorra       6610     76       5710       77265          855.50     2\n",
       "4       Angola      15087    345       7763    32866268            4.59     2"
      ]
     },
     "execution_count": 11,
     "metadata": {},
     "output_type": "execute_result"
    }
   ],
   "source": [
    "countrywise.head()"
   ]
  },
  {
   "cell_type": "code",
   "execution_count": 12,
   "metadata": {},
   "outputs": [
    {
     "name": "stdout",
     "output_type": "stream",
     "text": [
      "R-Square: 0.25\n"
     ]
    }
   ],
   "source": [
    "#Confirmed vs Recovered\n",
    "x = np.array(countrywise)[:, 1]\n",
    "y = np.array(countrywise)[:, 3]\n",
    "\n",
    "# 1D to 2D array\n",
    "x = x.reshape(-1,1)\n",
    "y = y.reshape(-1,1)\n",
    "\n",
    "x_train, x_test, y_train, y_test = train_test_split(x, y, test_size = 0.3)\n",
    "linearRegression = LinearRegression().fit(x_train, y_train)\n",
    "lr_predict = linearRegression.predict(x_test)\n",
    "print('R-Square: %.2f'%r2_score(y_test, lr_predict))"
   ]
  },
  {
   "cell_type": "code",
   "execution_count": 13,
   "metadata": {
    "scrolled": true
   },
   "outputs": [
    {
     "data": {
      "image/png": "[encoded data removed]",
      "text/plain": [
       "<Figure size 432x288 with 1 Axes>"
      ]
     },
     "metadata": {
      "needs_background": "light"
     },
     "output_type": "display_data"
    }
   ],
   "source": [
    "plt.scatter(x_test, y_test, linewidths=0.1, alpha=0.5)\n",
    "plt.xlabel('Confirmed')\n",
    "plt.ylabel('Recovered')\n",
    "plt.title('Actual Scatter')\n",
    "plt.show()"
   ]
  },
  {
   "cell_type": "code",
   "execution_count": 14,
   "metadata": {},
   "outputs": [
    {
     "data": {
      "image/png": "[encoded data removed]",
      "text/plain": [
       "<Figure size 432x288 with 1 Axes>"
      ]
     },
     "metadata": {
      "needs_background": "light"
     },
     "output_type": "display_data"
    }
   ],
   "source": [
    "plt.plot(x_test, lr_predict, color='green', linewidth = 3)\n",
    "plt.xlabel('Confirmed')\n",
    "plt.ylabel('Recovered')\n",
    "plt.title('Linear Regression Prediction')\n",
    "plt.show()"
   ]
  },
  {
   "cell_type": "markdown",
   "metadata": {},
   "source": [
    "### Logistic Regression"
   ]
  },
  {
   "cell_type": "code",
   "execution_count": 15,
   "metadata": {},
   "outputs": [],
   "source": [
    "from sklearn.linear_model import LogisticRegression"
   ]
  },
  {
   "cell_type": "code",
   "execution_count": 16,
   "metadata": {},
   "outputs": [
    {
     "name": "stdout",
     "output_type": "stream",
     "text": [
      "Accuracy Score: 1.00\n",
      "Mean Squared Error: 0.00\n",
      "R-Square Score: 1.00\n"
     ]
    }
   ],
   "source": [
    "x = countrywise[['Incidence rate']] #Features\n",
    "y = countrywise['Risk'] #Label\n",
    "\n",
    "x_train, x_test, y_train, y_test = train_test_split(x, y, test_size = 0.3)\n",
    "\n",
    "lr = LogisticRegression().fit(x_train, y_train)\n",
    "lr_predict = lr.predict(x_test)\n",
    "print('Accuracy Score: %.2f'%accuracy_score(y_test, lr_predict))\n",
    "print('Mean Squared Error: %.2f'%mean_squared_error(y_test, lr_predict))\n",
    "print('R-Square Score: %.2f'%r2_score(y_test, lr_predict))"
   ]
  },
  {
   "cell_type": "code",
   "execution_count": 17,
   "metadata": {},
   "outputs": [
    {
     "name": "stdout",
     "output_type": "stream",
     "text": [
      "Accuracy Score: 1.00\n",
      "Mean Squared Error: 0.00\n",
      "R-Square Score: 1.00\n"
     ]
    }
   ],
   "source": [
    "x = countrywise[['Confirmed','Population']] #Features\n",
    "y = countrywise['Risk'] #Label\n",
    "\n",
    "x_train, x_test, y_train, y_test = train_test_split(x, y, test_size = 0.3)\n",
    "\n",
    "lr = LogisticRegression().fit(x_train, y_train)\n",
    "lr_predict = lr.predict(x_test)\n",
    "print('Accuracy Score: %.2f'%accuracy_score(y_test, lr_predict))\n",
    "print('Mean Squared Error: %.2f'%mean_squared_error(y_test, lr_predict))\n",
    "print('R-Square Score: %.2f'%r2_score(y_test, lr_predict))"
   ]
  },
  {
   "cell_type": "markdown",
   "metadata": {},
   "source": [
    "### Random Forest"
   ]
  },
  {
   "cell_type": "code",
   "execution_count": 18,
   "metadata": {},
   "outputs": [],
   "source": [
    "from sklearn.ensemble import RandomForestClassifier"
   ]
  },
  {
   "cell_type": "code",
   "execution_count": 19,
   "metadata": {},
   "outputs": [
    {
     "name": "stdout",
     "output_type": "stream",
     "text": [
      "Accuracy Score: 1.00\n",
      "Mean Squared Error: 0.00\n",
      "R-Square Score: 1.00\n"
     ]
    }
   ],
   "source": [
    "x = countrywise[['Incidence rate']] #Features\n",
    "y = countrywise['Risk'] #Label\n",
    "\n",
    "x_train, x_test, y_train, y_test = train_test_split(x, y, test_size = 0.3)\n",
    "\n",
    "randomForest = RandomForestClassifier().fit(x_train, y_train)\n",
    "rf_predict = randomForest.predict(x_test)\n",
    "\n",
    "print('Accuracy Score: %.2f'%accuracy_score(y_test, rf_predict))\n",
    "print('Mean Squared Error: %.2f'%mean_squared_error(y_test, rf_predict))\n",
    "print('R-Square Score: %.2f'%r2_score(y_test, rf_predict))"
   ]
  },
  {
   "cell_type": "code",
   "execution_count": 20,
   "metadata": {},
   "outputs": [
    {
     "name": "stdout",
     "output_type": "stream",
     "text": [
      "Accuracy Score: 0.96\n",
      "Mean Squared Error: 0.09\n",
      "R-Square Score: 0.13\n"
     ]
    }
   ],
   "source": [
    "x = countrywise[['Confirmed', 'Population']] #Features\n",
    "y = countrywise['Risk'] #Label\n",
    "\n",
    "x_train, x_test, y_train, y_test = train_test_split(x, y, test_size = 0.3)\n",
    "\n",
    "randomForest = RandomForestClassifier().fit(x_train, y_train)\n",
    "rf_predict = randomForest.predict(x_test)\n",
    "\n",
    "print('Accuracy Score: %.2f'%accuracy_score(y_test, rf_predict))\n",
    "print('Mean Squared Error: %.2f'%mean_squared_error(y_test, rf_predict))\n",
    "print('R-Square Score: %.2f'%r2_score(y_test, rf_predict))"
   ]
  },
  {
   "cell_type": "markdown",
   "metadata": {},
   "source": [
    "### Decision Tree"
   ]
  },
  {
   "cell_type": "code",
   "execution_count": 21,
   "metadata": {},
   "outputs": [],
   "source": [
    "from sklearn.tree import DecisionTreeClassifier"
   ]
  },
  {
   "cell_type": "code",
   "execution_count": 22,
   "metadata": {},
   "outputs": [
    {
     "name": "stdout",
     "output_type": "stream",
     "text": [
      "Accuracy Score: 1.00\n",
      "Mean Squared Error: 0.00\n",
      "R-Square Score: 1.00\n"
     ]
    }
   ],
   "source": [
    "x = countrywise[['Incidence rate']] #Features\n",
    "y = countrywise['Risk'] #Label\n",
    "\n",
    "x_train, x_test, y_train, y_test = train_test_split(x, y, test_size = 0.3)\n",
    "\n",
    "decisionTree = DecisionTreeClassifier().fit(x_train, y_train)\n",
    "dt_predict = decisionTree.predict(x_test)\n",
    "\n",
    "print('Accuracy Score: %.2f'%accuracy_score(y_test, dt_predict))\n",
    "print('Mean Squared Error: %.2f'%mean_squared_error(y_test, dt_predict))\n",
    "print('R-Square Score: %.2f'%r2_score(y_test, dt_predict))"
   ]
  },
  {
   "cell_type": "code",
   "execution_count": 23,
   "metadata": {},
   "outputs": [
    {
     "name": "stdout",
     "output_type": "stream",
     "text": [
      "Accuracy Score: 0.95\n",
      "Mean Squared Error: 0.16\n",
      "R-Square Score: 0.59\n"
     ]
    }
   ],
   "source": [
    "x = countrywise[['Confirmed', 'Population']] #Features\n",
    "y = countrywise['Risk'] #Label\n",
    "\n",
    "x_train, x_test, y_train, y_test = train_test_split(x, y, test_size = 0.3)\n",
    "\n",
    "decisionTree = DecisionTreeClassifier().fit(x_train, y_train)\n",
    "dt_predict = decisionTree.predict(x_test)\n",
    "\n",
    "print('Accuracy Score: %.2f'%accuracy_score(y_test, dt_predict))\n",
    "print('Mean Squared Error: %.2f'%mean_squared_error(y_test, dt_predict))\n",
    "print('R-Square Score: %.2f'%r2_score(y_test, dt_predict))"
   ]
  },
  {
   "cell_type": "markdown",
   "metadata": {},
   "source": [
    "### SVM"
   ]
  },
  {
   "cell_type": "code",
   "execution_count": 24,
   "metadata": {},
   "outputs": [],
   "source": [
    "from sklearn.svm import SVC"
   ]
  },
  {
   "cell_type": "code",
   "execution_count": 25,
   "metadata": {},
   "outputs": [
    {
     "name": "stdout",
     "output_type": "stream",
     "text": [
      "Accuracy Score: 0.82\n",
      "Mean Squared Error: 0.54\n",
      "R-Square Score: -0.20\n"
     ]
    }
   ],
   "source": [
    "x = countrywise[['Incidence rate']] #Features\n",
    "y = countrywise['Risk'] #Label\n",
    "\n",
    "x_train, x_test, y_train, y_test = train_test_split(x, y, test_size = 0.3)\n",
    "\n",
    "svm = SVC().fit(x_train, y_train)\n",
    "svm_predict = svm.predict(x_test)\n",
    "\n",
    "print('Accuracy Score: %.2f'%accuracy_score(y_test, svm_predict))\n",
    "print('Mean Squared Error: %.2f'%mean_squared_error(y_test, svm_predict))\n",
    "print('R-Square Score: %.2f'%r2_score(y_test, svm_predict))"
   ]
  },
  {
   "cell_type": "code",
   "execution_count": 26,
   "metadata": {},
   "outputs": [
    {
     "name": "stdout",
     "output_type": "stream",
     "text": [
      "Accuracy Score: 0.82\n",
      "Mean Squared Error: 0.54\n",
      "R-Square Score: -0.20\n"
     ]
    }
   ],
   "source": [
    "x = countrywise[['Confirmed', 'Population']] #Features\n",
    "y = countrywise['Risk'] #Label\n",
    "\n",
    "x_train, x_test, y_train, y_test = train_test_split(x, y, test_size = 0.3)\n",
    "\n",
    "svm = SVC().fit(x_train, y_train)\n",
    "svm_predict = svm.predict(x_test)\n",
    "\n",
    "print('Accuracy Score: %.2f'%accuracy_score(y_test, svm_predict))\n",
    "print('Mean Squared Error: %.2f'%mean_squared_error(y_test, svm_predict))\n",
    "print('R-Square Score: %.2f'%r2_score(y_test, svm_predict))"
   ]
  },
  {
   "cell_type": "markdown",
   "metadata": {},
   "source": [
    "### KNN"
   ]
  },
  {
   "cell_type": "code",
   "execution_count": 27,
   "metadata": {},
   "outputs": [],
   "source": [
    "from sklearn.neighbors import KNeighborsClassifier"
   ]
  },
  {
   "cell_type": "code",
   "execution_count": 28,
   "metadata": {},
   "outputs": [
    {
     "name": "stdout",
     "output_type": "stream",
     "text": [
      "Accuracy Score: 0.96\n",
      "Mean Squared Error: 0.04\n",
      "R-Square Score: 0.91\n"
     ]
    }
   ],
   "source": [
    "x = countrywise[['Incidence rate']] #Features\n",
    "y = countrywise['Risk'] #Label\n",
    "\n",
    "x_train, x_test, y_train, y_test = train_test_split(x, y, test_size = 0.3)\n",
    "\n",
    "knn = KNeighborsClassifier(n_neighbors=20).fit(x_train, y_train)\n",
    "knn_predict = knn.predict(x_test)\n",
    "\n",
    "print('Accuracy Score: %.2f'%accuracy_score(y_test, knn_predict))\n",
    "print('Mean Squared Error: %.2f'%mean_squared_error(y_test, knn_predict))\n",
    "print('R-Square Score: %.2f'%r2_score(y_test, knn_predict))"
   ]
  },
  {
   "cell_type": "code",
   "execution_count": 29,
   "metadata": {
    "scrolled": true
   },
   "outputs": [
    {
     "name": "stdout",
     "output_type": "stream",
     "text": [
      "Accuracy Score: 0.88\n",
      "Mean Squared Error: 0.44\n",
      "R-Square Score: -0.13\n"
     ]
    }
   ],
   "source": [
    "x = countrywise[['Confirmed', 'Population']] #Features\n",
    "y = countrywise['Risk'] #Label\n",
    "\n",
    "x_train, x_test, y_train, y_test = train_test_split(x, y, test_size = 0.3)\n",
    "\n",
    "knn = KNeighborsClassifier(n_neighbors=20).fit(x_train, y_train)\n",
    "knn_predict = knn.predict(x_test)\n",
    "\n",
    "print('Accuracy Score: %.2f'%accuracy_score(y_test, knn_predict))\n",
    "print('Mean Squared Error: %.2f'%mean_squared_error(y_test, knn_predict))\n",
    "print('R-Square Score: %.2f'%r2_score(y_test, knn_predict))"
   ]
  },
  {
   "cell_type": "markdown",
   "metadata": {},
   "source": [
    "### KMean"
   ]
  },
  {
   "cell_type": "code",
   "execution_count": 30,
   "metadata": {},
   "outputs": [],
   "source": [
    "from sklearn.cluster import KMeans"
   ]
  },
  {
   "cell_type": "code",
   "execution_count": 31,
   "metadata": {},
   "outputs": [
    {
     "name": "stdout",
     "output_type": "stream",
     "text": [
      "Accuracy Score: 0.30\n",
      "Mean Squared Error: 5.07\n",
      "R-Square Score: -10.33\n"
     ]
    }
   ],
   "source": [
    "x = countrywise[['Incidence rate']] #Features\n",
    "y = countrywise['Risk'] #Label\n",
    "\n",
    "x_train, x_test, y_train, y_test = train_test_split(x, y, test_size = 0.3)\n",
    "\n",
    "kmeans = KMeans().fit(x_train, y_train)\n",
    "kmeans_predict = kmeans.predict(x_test)\n",
    "\n",
    "print('Accuracy Score: %.2f'%accuracy_score(y_test, kmeans_predict))\n",
    "print('Mean Squared Error: %.2f'%mean_squared_error(y_test, kmeans_predict))\n",
    "print('R-Square Score: %.2f'%r2_score(y_test, kmeans_predict))"
   ]
  },
  {
   "cell_type": "code",
   "execution_count": 32,
   "metadata": {},
   "outputs": [
    {
     "data": {
      "image/png": "[encoded data removed]",
      "text/plain": [
       "<Figure size 432x288 with 1 Axes>"
      ]
     },
     "metadata": {
      "needs_background": "light"
     },
     "output_type": "display_data"
    }
   ],
   "source": [
    "# why it is off accuracy\n",
    "plt.xlabel('Confirmed')\n",
    "plt.ylabel('Incidence rate')\n",
    "plt.scatter(countrywise.Confirmed, \n",
    "            countrywise['Incidence rate'], marker='+', color='orange')\n",
    "plt.show()"
   ]
  },
  {
   "cell_type": "code",
   "execution_count": 33,
   "metadata": {},
   "outputs": [
    {
     "data": {
      "image/png": "[encoded data removed]",
      "text/plain": [
       "<Figure size 432x288 with 1 Axes>"
      ]
     },
     "metadata": {
      "needs_background": "light"
     },
     "output_type": "display_data"
    }
   ],
   "source": [
    "km = KMeans(n_clusters = 3)\n",
    "y_pred = km.fit_predict(countrywise[['Confirmed', 'Incidence rate']])\n",
    "countrywise['km_cluster'] = y_pred\n",
    "\n",
    "km0 = countrywise[countrywise.km_cluster==0]\n",
    "km1 = countrywise[countrywise.km_cluster==1]\n",
    "km2 = countrywise[countrywise.km_cluster==2]\n",
    "plt.scatter(km0.Confirmed, km0['Incidence rate'], color='green')\n",
    "plt.scatter(km1.Confirmed, km1['Incidence rate'], color='red')\n",
    "plt.scatter(km2.Confirmed, km2['Incidence rate'], color='black')\n",
    "plt.scatter(km.cluster_centers_[:, 0], km.cluster_centers_[:, 1], \n",
    "            color='purple', marker='*', label='centroid')\n",
    "plt.xlabel('Confirmed')\n",
    "plt.ylabel('Risk')\n",
    "plt.legend()\n",
    "plt.show()"
   ]
  },
  {
   "cell_type": "markdown",
   "metadata": {},
   "source": [
    "### Prophet"
   ]
  },
  {
   "cell_type": "code",
   "execution_count": 34,
   "metadata": {},
   "outputs": [],
   "source": [
    "from fbprophet import Prophet"
   ]
  },
  {
   "cell_type": "code",
   "execution_count": 35,
   "metadata": {},
   "outputs": [
    {
     "name": "stderr",
     "output_type": "stream",
     "text": [
      "INFO:fbprophet:Disabling yearly seasonality. Run prophet with yearly_seasonality=True to override this.\n",
      "INFO:fbprophet:Disabling daily seasonality. Run prophet with daily_seasonality=True to override this.\n"
     ]
    },
    {
     "data": {
      "text/html": [
       "<div>\n",
       "<style scoped>\n",
       "    .dataframe tbody tr th:only-of-type {\n",
       "        vertical-align: middle;\n",
       "    }\n",
       "\n",
       "    .dataframe tbody tr th {\n",
       "        vertical-align: top;\n",
       "    }\n",
       "\n",
       "    .dataframe thead th {\n",
       "        text-align: right;\n",
       "    }\n",
       "</style>\n",
       "<table border=\"1\" class=\"dataframe\">\n",
       "  <thead>\n",
       "    <tr style=\"text-align: right;\">\n",
       "      <th></th>\n",
       "      <th>ds</th>\n",
       "      <th>yhat</th>\n",
       "      <th>yhat_lower</th>\n",
       "      <th>yhat_upper</th>\n",
       "    </tr>\n",
       "  </thead>\n",
       "  <tbody>\n",
       "    <tr>\n",
       "      <th>317</th>\n",
       "      <td>2020-12-04</td>\n",
       "      <td>62.436028</td>\n",
       "      <td>61.374360</td>\n",
       "      <td>63.470263</td>\n",
       "    </tr>\n",
       "    <tr>\n",
       "      <th>318</th>\n",
       "      <td>2020-12-05</td>\n",
       "      <td>62.894000</td>\n",
       "      <td>61.804599</td>\n",
       "      <td>63.886379</td>\n",
       "    </tr>\n",
       "    <tr>\n",
       "      <th>319</th>\n",
       "      <td>2020-12-06</td>\n",
       "      <td>63.266579</td>\n",
       "      <td>62.194677</td>\n",
       "      <td>64.283206</td>\n",
       "    </tr>\n",
       "    <tr>\n",
       "      <th>320</th>\n",
       "      <td>2020-12-07</td>\n",
       "      <td>63.709918</td>\n",
       "      <td>62.611418</td>\n",
       "      <td>64.747218</td>\n",
       "    </tr>\n",
       "    <tr>\n",
       "      <th>321</th>\n",
       "      <td>2020-12-08</td>\n",
       "      <td>64.161612</td>\n",
       "      <td>63.065481</td>\n",
       "      <td>65.219340</td>\n",
       "    </tr>\n",
       "  </tbody>\n",
       "</table>\n",
       "</div>"
      ],
      "text/plain": [
       "            ds       yhat  yhat_lower  yhat_upper\n",
       "317 2020-12-04  62.436028   61.374360   63.470263\n",
       "318 2020-12-05  62.894000   61.804599   63.886379\n",
       "319 2020-12-06  63.266579   62.194677   64.283206\n",
       "320 2020-12-07  63.709918   62.611418   64.747218\n",
       "321 2020-12-08  64.161612   63.065481   65.219340"
      ]
     },
     "execution_count": 35,
     "metadata": {},
     "output_type": "execute_result"
    }
   ],
   "source": [
    "df = pd.read_csv('/Users/javkhlan/Desktop/Projects/Data Visualization in Python/DB3/covid19_data_cleaned.csv', parse_dates=['Date'])\n",
    "confirmed = df.groupby('Date').sum()['Confirmed'].reset_index()\n",
    "deaths = df.groupby('Date').sum()['Death'].reset_index()\n",
    "recovered = df.groupby('Date').sum()['Recovered'].reset_index()\n",
    "\n",
    "confirmed.columns=['ds','y']\n",
    "confirmed['y']= np.round((confirmed['y']/1000000), decimals=1)\n",
    "\n",
    "m = Prophet(interval_width=0.95)\n",
    "m.fit(confirmed)\n",
    "future = m.make_future_dataframe(periods=10)\n",
    "\n",
    "forecast = m.predict(future)\n",
    "forecast[['ds','yhat','yhat_lower','yhat_upper']].tail()"
   ]
  },
  {
   "cell_type": "code",
   "execution_count": 36,
   "metadata": {},
   "outputs": [
    {
     "data": {
      "image/png": "[encoded data removed]",
      "text/plain": [
       "<Figure size 720x432 with 1 Axes>"
      ]
     },
     "metadata": {},
     "output_type": "display_data"
    }
   ],
   "source": [
    "confirmed_forecast_plot = m.plot(forecast)"
   ]
  },
  {
   "cell_type": "markdown",
   "metadata": {},
   "source": [
    "### Prediction by the end of 2020"
   ]
  },
  {
   "cell_type": "code",
   "execution_count": 37,
   "metadata": {},
   "outputs": [
    {
     "name": "stderr",
     "output_type": "stream",
     "text": [
      "INFO:fbprophet:Disabling yearly seasonality. Run prophet with yearly_seasonality=True to override this.\n",
      "INFO:fbprophet:Disabling daily seasonality. Run prophet with daily_seasonality=True to override this.\n"
     ]
    },
    {
     "data": {
      "text/html": [
       "<div>\n",
       "<style scoped>\n",
       "    .dataframe tbody tr th:only-of-type {\n",
       "        vertical-align: middle;\n",
       "    }\n",
       "\n",
       "    .dataframe tbody tr th {\n",
       "        vertical-align: top;\n",
       "    }\n",
       "\n",
       "    .dataframe thead th {\n",
       "        text-align: right;\n",
       "    }\n",
       "</style>\n",
       "<table border=\"1\" class=\"dataframe\">\n",
       "  <thead>\n",
       "    <tr style=\"text-align: right;\">\n",
       "      <th></th>\n",
       "      <th>ds</th>\n",
       "      <th>yhat</th>\n",
       "      <th>yhat_lower</th>\n",
       "      <th>yhat_upper</th>\n",
       "    </tr>\n",
       "  </thead>\n",
       "  <tbody>\n",
       "    <tr>\n",
       "      <th>337</th>\n",
       "      <td>2020-12-24</td>\n",
       "      <td>71.446654</td>\n",
       "      <td>69.745146</td>\n",
       "      <td>73.166051</td>\n",
       "    </tr>\n",
       "    <tr>\n",
       "      <th>338</th>\n",
       "      <td>2020-12-25</td>\n",
       "      <td>71.927500</td>\n",
       "      <td>69.976894</td>\n",
       "      <td>73.661370</td>\n",
       "    </tr>\n",
       "    <tr>\n",
       "      <th>339</th>\n",
       "      <td>2020-12-26</td>\n",
       "      <td>72.385472</td>\n",
       "      <td>70.645105</td>\n",
       "      <td>74.194391</td>\n",
       "    </tr>\n",
       "    <tr>\n",
       "      <th>340</th>\n",
       "      <td>2020-12-27</td>\n",
       "      <td>72.758050</td>\n",
       "      <td>70.719879</td>\n",
       "      <td>74.406071</td>\n",
       "    </tr>\n",
       "    <tr>\n",
       "      <th>341</th>\n",
       "      <td>2020-12-28</td>\n",
       "      <td>73.201390</td>\n",
       "      <td>71.179299</td>\n",
       "      <td>75.384375</td>\n",
       "    </tr>\n",
       "  </tbody>\n",
       "</table>\n",
       "</div>"
      ],
      "text/plain": [
       "            ds       yhat  yhat_lower  yhat_upper\n",
       "337 2020-12-24  71.446654   69.745146   73.166051\n",
       "338 2020-12-25  71.927500   69.976894   73.661370\n",
       "339 2020-12-26  72.385472   70.645105   74.194391\n",
       "340 2020-12-27  72.758050   70.719879   74.406071\n",
       "341 2020-12-28  73.201390   71.179299   75.384375"
      ]
     },
     "execution_count": 37,
     "metadata": {},
     "output_type": "execute_result"
    }
   ],
   "source": [
    "df = pd.read_csv('/Users/javkhlan/Desktop/Projects/Data Visualization in Python/DB3/covid19_data_cleaned.csv', parse_dates=['Date'])\n",
    "confirmed = df.groupby('Date').sum()['Confirmed'].reset_index()\n",
    "deaths = df.groupby('Date').sum()['Death'].reset_index()\n",
    "recovered = df.groupby('Date').sum()['Recovered'].reset_index()\n",
    "\n",
    "confirmed.columns=['ds','y']\n",
    "confirmed['y']= np.round((confirmed['y']/1000000), decimals=1)\n",
    "\n",
    "m = Prophet(interval_width=0.95)\n",
    "m.fit(confirmed)\n",
    "future = m.make_future_dataframe(periods=30)\n",
    "\n",
    "forecast = m.predict(future)\n",
    "forecast[['ds','yhat','yhat_lower','yhat_upper']].tail()"
   ]
  },
  {
   "cell_type": "code",
   "execution_count": 38,
   "metadata": {},
   "outputs": [
    {
     "name": "stderr",
     "output_type": "stream",
     "text": [
      "INFO:fbprophet:Disabling yearly seasonality. Run prophet with yearly_seasonality=True to override this.\n",
      "INFO:fbprophet:Disabling daily seasonality. Run prophet with daily_seasonality=True to override this.\n"
     ]
    },
    {
     "data": {
      "text/html": [
       "<div>\n",
       "<style scoped>\n",
       "    .dataframe tbody tr th:only-of-type {\n",
       "        vertical-align: middle;\n",
       "    }\n",
       "\n",
       "    .dataframe tbody tr th {\n",
       "        vertical-align: top;\n",
       "    }\n",
       "\n",
       "    .dataframe thead th {\n",
       "        text-align: right;\n",
       "    }\n",
       "</style>\n",
       "<table border=\"1\" class=\"dataframe\">\n",
       "  <thead>\n",
       "    <tr style=\"text-align: right;\">\n",
       "      <th></th>\n",
       "      <th>ds</th>\n",
       "      <th>yhat</th>\n",
       "      <th>yhat_lower</th>\n",
       "      <th>yhat_upper</th>\n",
       "    </tr>\n",
       "  </thead>\n",
       "  <tbody>\n",
       "    <tr>\n",
       "      <th>337</th>\n",
       "      <td>2020-12-24</td>\n",
       "      <td>1.550298</td>\n",
       "      <td>1.490761</td>\n",
       "      <td>1.611212</td>\n",
       "    </tr>\n",
       "    <tr>\n",
       "      <th>338</th>\n",
       "      <td>2020-12-25</td>\n",
       "      <td>1.561144</td>\n",
       "      <td>1.507267</td>\n",
       "      <td>1.625007</td>\n",
       "    </tr>\n",
       "    <tr>\n",
       "      <th>339</th>\n",
       "      <td>2020-12-26</td>\n",
       "      <td>1.565324</td>\n",
       "      <td>1.505435</td>\n",
       "      <td>1.620169</td>\n",
       "    </tr>\n",
       "    <tr>\n",
       "      <th>340</th>\n",
       "      <td>2020-12-27</td>\n",
       "      <td>1.569261</td>\n",
       "      <td>1.510779</td>\n",
       "      <td>1.627587</td>\n",
       "    </tr>\n",
       "    <tr>\n",
       "      <th>341</th>\n",
       "      <td>2020-12-28</td>\n",
       "      <td>1.575741</td>\n",
       "      <td>1.517473</td>\n",
       "      <td>1.634009</td>\n",
       "    </tr>\n",
       "  </tbody>\n",
       "</table>\n",
       "</div>"
      ],
      "text/plain": [
       "            ds      yhat  yhat_lower  yhat_upper\n",
       "337 2020-12-24  1.550298    1.490761    1.611212\n",
       "338 2020-12-25  1.561144    1.507267    1.625007\n",
       "339 2020-12-26  1.565324    1.505435    1.620169\n",
       "340 2020-12-27  1.569261    1.510779    1.627587\n",
       "341 2020-12-28  1.575741    1.517473    1.634009"
      ]
     },
     "execution_count": 38,
     "metadata": {},
     "output_type": "execute_result"
    }
   ],
   "source": [
    "df = pd.read_csv('/Users/javkhlan/Desktop/Projects/Data Visualization in Python/DB3/covid19_data_cleaned.csv', parse_dates=['Date'])\n",
    "confirmed = df.groupby('Date').sum()['Confirmed'].reset_index()\n",
    "deaths = df.groupby('Date').sum()['Death'].reset_index()\n",
    "recovered = df.groupby('Date').sum()['Recovered'].reset_index()\n",
    "\n",
    "deaths.columns=['ds','y']\n",
    "deaths['y']= np.round((deaths['y']/1000000), decimals=1)\n",
    "\n",
    "m = Prophet(interval_width=0.95)\n",
    "m.fit(deaths)\n",
    "future = m.make_future_dataframe(periods=30)\n",
    "\n",
    "forecast = m.predict(future)\n",
    "forecast[['ds','yhat','yhat_lower','yhat_upper']].tail()"
   ]
  },
  {
   "cell_type": "code",
   "execution_count": null,
   "metadata": {},
   "outputs": [],
   "source": []
  }
 ],
 "metadata": {
  "kernelspec": {
   "display_name": "Python 3",
   "language": "python",
   "name": "python3"
  },
  "language_info": {
   "codemirror_mode": {
    "name": "ipython",
    "version": 3
   },
   "file_extension": ".py",
   "mimetype": "text/x-python",
   "name": "python",
   "nbconvert_exporter": "python",
   "pygments_lexer": "ipython3",
   "version": "3.8.3"
  }
 },
 "nbformat": 4,
 "nbformat_minor": 4
}
