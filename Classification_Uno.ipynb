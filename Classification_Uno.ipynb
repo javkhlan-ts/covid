{
 "cells": [
  {
   "cell_type": "markdown",
   "metadata": {},
   "source": [
    "# Classification"
   ]
  },
  {
   "cell_type": "code",
   "execution_count": 1,
   "metadata": {},
   "outputs": [],
   "source": [
    "#imports\n",
    "import plotly.express as px\n",
    "import plotly.graph_objects as go\n",
    "import plotly.figure_factory as ff\n",
    "from plotly.subplots import make_subplots\n",
    "\n",
    "import folium\n",
    "\n",
    "import pandas as pd\n",
    "import numpy as np\n",
    "import matplotlib.pyplot as plt\n",
    "\n",
    "%matplotlib inline\n",
    "\n",
    "import math\n",
    "import random\n",
    "from datetime import timedelta\n",
    "\n",
    "import warnings\n",
    "warnings.filterwarnings('ignore')\n",
    "\n",
    "#color pallete\n",
    "cnf='#393e46'\n",
    "dth='#ff2e63'\n",
    "rec='#21bf73'\n",
    "act='#fe9801'\n",
    "\n",
    "#dataframes\n",
    "df = pd.read_csv('/Users/javkhlan/Desktop/Projects/Data Visualization in Python/DB3/covid19_data_cleaned.csv', parse_dates=['Date'], index_col=0)\n",
    "country_daywise = pd.read_csv('/Users/javkhlan/Desktop/Projects/Data Visualization in Python/DB3/country_daywise.csv', parse_dates=['Date'])\n",
    "countrywise = pd.read_csv('/Users/javkhlan/Desktop/Projects/Data Visualization in Python/DB3/countrywise.csv',index_col=0)\n",
    "daywise = pd.read_csv('/Users/javkhlan/Desktop/Projects/Data Visualization in Python/DB3/daywise.csv', parse_dates=['Date'])"
   ]
  },
  {
   "cell_type": "code",
   "execution_count": 2,
   "metadata": {},
   "outputs": [],
   "source": [
    "# index_col = 0, to avoid Unnamed: 0 index column\n",
    "# Or it can be avoided when df.to_csv(index=False)"
   ]
  },
  {
   "cell_type": "code",
   "execution_count": 3,
   "metadata": {},
   "outputs": [
    {
     "data": {
      "text/html": [
       "<div>\n",
       "<style scoped>\n",
       "    .dataframe tbody tr th:only-of-type {\n",
       "        vertical-align: middle;\n",
       "    }\n",
       "\n",
       "    .dataframe tbody tr th {\n",
       "        vertical-align: top;\n",
       "    }\n",
       "\n",
       "    .dataframe thead th {\n",
       "        text-align: right;\n",
       "    }\n",
       "</style>\n",
       "<table border=\"1\" class=\"dataframe\">\n",
       "  <thead>\n",
       "    <tr style=\"text-align: right;\">\n",
       "      <th></th>\n",
       "      <th>Country</th>\n",
       "      <th>Confirmed</th>\n",
       "      <th>Death</th>\n",
       "      <th>Recovered</th>\n",
       "      <th>Active</th>\n",
       "      <th>New cases</th>\n",
       "      <th>New death</th>\n",
       "      <th>New recovered</th>\n",
       "      <th>Death/100 Cases</th>\n",
       "      <th>Recovered/100 Cases</th>\n",
       "      <th>Death/100 Recovered</th>\n",
       "      <th>Population</th>\n",
       "      <th>Cases/Million People</th>\n",
       "    </tr>\n",
       "  </thead>\n",
       "  <tbody>\n",
       "    <tr>\n",
       "      <th>0</th>\n",
       "      <td>Afghanistan</td>\n",
       "      <td>45966</td>\n",
       "      <td>1752</td>\n",
       "      <td>36709</td>\n",
       "      <td>7505</td>\n",
       "      <td>127</td>\n",
       "      <td>12</td>\n",
       "      <td>414</td>\n",
       "      <td>3.81</td>\n",
       "      <td>79.86</td>\n",
       "      <td>4.77</td>\n",
       "      <td>38928341</td>\n",
       "      <td>1181.0</td>\n",
       "    </tr>\n",
       "    <tr>\n",
       "      <th>1</th>\n",
       "      <td>Albania</td>\n",
       "      <td>36790</td>\n",
       "      <td>787</td>\n",
       "      <td>18152</td>\n",
       "      <td>17851</td>\n",
       "      <td>545</td>\n",
       "      <td>16</td>\n",
       "      <td>397</td>\n",
       "      <td>2.14</td>\n",
       "      <td>49.34</td>\n",
       "      <td>4.34</td>\n",
       "      <td>2877800</td>\n",
       "      <td>12784.0</td>\n",
       "    </tr>\n",
       "    <tr>\n",
       "      <th>2</th>\n",
       "      <td>Algeria</td>\n",
       "      <td>81212</td>\n",
       "      <td>2393</td>\n",
       "      <td>52568</td>\n",
       "      <td>26251</td>\n",
       "      <td>1044</td>\n",
       "      <td>21</td>\n",
       "      <td>622</td>\n",
       "      <td>2.95</td>\n",
       "      <td>64.73</td>\n",
       "      <td>4.55</td>\n",
       "      <td>43851043</td>\n",
       "      <td>1852.0</td>\n",
       "    </tr>\n",
       "    <tr>\n",
       "      <th>3</th>\n",
       "      <td>Andorra</td>\n",
       "      <td>6610</td>\n",
       "      <td>76</td>\n",
       "      <td>5710</td>\n",
       "      <td>824</td>\n",
       "      <td>0</td>\n",
       "      <td>0</td>\n",
       "      <td>0</td>\n",
       "      <td>1.15</td>\n",
       "      <td>86.38</td>\n",
       "      <td>1.33</td>\n",
       "      <td>77265</td>\n",
       "      <td>85550.0</td>\n",
       "    </tr>\n",
       "    <tr>\n",
       "      <th>4</th>\n",
       "      <td>Angola</td>\n",
       "      <td>15087</td>\n",
       "      <td>345</td>\n",
       "      <td>7763</td>\n",
       "      <td>6979</td>\n",
       "      <td>79</td>\n",
       "      <td>3</td>\n",
       "      <td>66</td>\n",
       "      <td>2.29</td>\n",
       "      <td>51.45</td>\n",
       "      <td>4.44</td>\n",
       "      <td>32866268</td>\n",
       "      <td>459.0</td>\n",
       "    </tr>\n",
       "  </tbody>\n",
       "</table>\n",
       "</div>"
      ],
      "text/plain": [
       "       Country  Confirmed  Death  Recovered  Active  New cases  New death  \\\n",
       "0  Afghanistan      45966   1752      36709    7505        127         12   \n",
       "1      Albania      36790    787      18152   17851        545         16   \n",
       "2      Algeria      81212   2393      52568   26251       1044         21   \n",
       "3      Andorra       6610     76       5710     824          0          0   \n",
       "4       Angola      15087    345       7763    6979         79          3   \n",
       "\n",
       "   New recovered  Death/100 Cases  Recovered/100 Cases  Death/100 Recovered  \\\n",
       "0            414             3.81                79.86                 4.77   \n",
       "1            397             2.14                49.34                 4.34   \n",
       "2            622             2.95                64.73                 4.55   \n",
       "3              0             1.15                86.38                 1.33   \n",
       "4             66             2.29                51.45                 4.44   \n",
       "\n",
       "   Population  Cases/Million People  \n",
       "0    38928341                1181.0  \n",
       "1     2877800               12784.0  \n",
       "2    43851043                1852.0  \n",
       "3       77265               85550.0  \n",
       "4    32866268                 459.0  "
      ]
     },
     "execution_count": 3,
     "metadata": {},
     "output_type": "execute_result"
    }
   ],
   "source": [
    "countrywise.head()"
   ]
  },
  {
   "cell_type": "code",
   "execution_count": 4,
   "metadata": {},
   "outputs": [],
   "source": [
    "countrywise.drop(countrywise.iloc[:, 4:11], inplace = True, axis = 1)"
   ]
  },
  {
   "cell_type": "code",
   "execution_count": 5,
   "metadata": {},
   "outputs": [],
   "source": [
    "countrywise.drop('Cases/Million People', inplace = True, axis = 1)"
   ]
  },
  {
   "cell_type": "code",
   "execution_count": 6,
   "metadata": {},
   "outputs": [
    {
     "data": {
      "text/html": [
       "<div>\n",
       "<style scoped>\n",
       "    .dataframe tbody tr th:only-of-type {\n",
       "        vertical-align: middle;\n",
       "    }\n",
       "\n",
       "    .dataframe tbody tr th {\n",
       "        vertical-align: top;\n",
       "    }\n",
       "\n",
       "    .dataframe thead th {\n",
       "        text-align: right;\n",
       "    }\n",
       "</style>\n",
       "<table border=\"1\" class=\"dataframe\">\n",
       "  <thead>\n",
       "    <tr style=\"text-align: right;\">\n",
       "      <th></th>\n",
       "      <th>Country</th>\n",
       "      <th>Confirmed</th>\n",
       "      <th>Death</th>\n",
       "      <th>Recovered</th>\n",
       "      <th>Population</th>\n",
       "    </tr>\n",
       "  </thead>\n",
       "  <tbody>\n",
       "    <tr>\n",
       "      <th>0</th>\n",
       "      <td>Afghanistan</td>\n",
       "      <td>45966</td>\n",
       "      <td>1752</td>\n",
       "      <td>36709</td>\n",
       "      <td>38928341</td>\n",
       "    </tr>\n",
       "    <tr>\n",
       "      <th>1</th>\n",
       "      <td>Albania</td>\n",
       "      <td>36790</td>\n",
       "      <td>787</td>\n",
       "      <td>18152</td>\n",
       "      <td>2877800</td>\n",
       "    </tr>\n",
       "    <tr>\n",
       "      <th>2</th>\n",
       "      <td>Algeria</td>\n",
       "      <td>81212</td>\n",
       "      <td>2393</td>\n",
       "      <td>52568</td>\n",
       "      <td>43851043</td>\n",
       "    </tr>\n",
       "    <tr>\n",
       "      <th>3</th>\n",
       "      <td>Andorra</td>\n",
       "      <td>6610</td>\n",
       "      <td>76</td>\n",
       "      <td>5710</td>\n",
       "      <td>77265</td>\n",
       "    </tr>\n",
       "    <tr>\n",
       "      <th>4</th>\n",
       "      <td>Angola</td>\n",
       "      <td>15087</td>\n",
       "      <td>345</td>\n",
       "      <td>7763</td>\n",
       "      <td>32866268</td>\n",
       "    </tr>\n",
       "  </tbody>\n",
       "</table>\n",
       "</div>"
      ],
      "text/plain": [
       "       Country  Confirmed  Death  Recovered  Population\n",
       "0  Afghanistan      45966   1752      36709    38928341\n",
       "1      Albania      36790    787      18152     2877800\n",
       "2      Algeria      81212   2393      52568    43851043\n",
       "3      Andorra       6610     76       5710       77265\n",
       "4       Angola      15087    345       7763    32866268"
      ]
     },
     "execution_count": 6,
     "metadata": {},
     "output_type": "execute_result"
    }
   ],
   "source": [
    "countrywise.head()"
   ]
  },
  {
   "cell_type": "markdown",
   "metadata": {},
   "source": [
    "### Linear Regression"
   ]
  },
  {
   "cell_type": "markdown",
   "metadata": {},
   "source": [
    "#### Regression searches for relationship among variables"
   ]
  },
  {
   "cell_type": "code",
   "execution_count": 7,
   "metadata": {},
   "outputs": [],
   "source": [
    "from sklearn.linear_model import LinearRegression"
   ]
  },
  {
   "cell_type": "code",
   "execution_count": 8,
   "metadata": {},
   "outputs": [],
   "source": [
    "us = country_daywise[country_daywise.Country == 'US'].reset_index(drop=True)"
   ]
  },
  {
   "cell_type": "code",
   "execution_count": 9,
   "metadata": {},
   "outputs": [],
   "source": [
    "us_c = np.array(us)[:, 2]\n",
    "us_d = np.array(us)[:, 3]\n",
    "us_r = np.array(us)[:, 4]\n",
    "\n",
    "us_c = us_c.reshape(-1,1)\n",
    "us_d = us_d.reshape(-1,1)\n",
    "us_r = us_r.reshape(-1,1)"
   ]
  },
  {
   "cell_type": "code",
   "execution_count": 10,
   "metadata": {},
   "outputs": [],
   "source": [
    "from sklearn.model_selection import train_test_split"
   ]
  },
  {
   "cell_type": "code",
   "execution_count": 11,
   "metadata": {},
   "outputs": [],
   "source": [
    "x = us_c\n",
    "y = us_d\n",
    "\n",
    "x_train, x_test, y_train, y_test = train_test_split(x, y, test_size = 0.3)\n",
    "linearRegression = LinearRegression()\n",
    "linearRegression.fit(x_train, y_train)\n",
    "lr_predict = linearRegression.predict(x_test)"
   ]
  },
  {
   "cell_type": "code",
   "execution_count": 12,
   "metadata": {},
   "outputs": [],
   "source": [
    "from sklearn.metrics import mean_squared_error, r2_score"
   ]
  },
  {
   "cell_type": "code",
   "execution_count": 13,
   "metadata": {},
   "outputs": [
    {
     "name": "stdout",
     "output_type": "stream",
     "text": [
      "Mean Squared Error: 769039999.59\n",
      "R-Square: 0.89\n"
     ]
    }
   ],
   "source": [
    "print('Mean Squared Error: %.2f'%mean_squared_error(y_test, lr_predict))\n",
    "print('R-Square: %.2f'%r2_score(y_test, lr_predict))"
   ]
  },
  {
   "cell_type": "code",
   "execution_count": 14,
   "metadata": {},
   "outputs": [
    {
     "data": {
      "image/png": "[encoded data removed]",
      "text/plain": [
       "<Figure size 432x288 with 1 Axes>"
      ]
     },
     "metadata": {
      "needs_background": "light"
     },
     "output_type": "display_data"
    }
   ],
   "source": [
    "plt.scatter(x_test, y_test, linewidths=0.1, alpha=0.5)\n",
    "plt.xlabel('Confirmed')\n",
    "plt.ylabel('Death')\n",
    "plt.title('Actual Scatter')\n",
    "plt.show()"
   ]
  },
  {
   "cell_type": "code",
   "execution_count": 15,
   "metadata": {},
   "outputs": [
    {
     "data": {
      "image/png": "[encoded data removed]",
      "text/plain": [
       "<Figure size 432x288 with 1 Axes>"
      ]
     },
     "metadata": {
      "needs_background": "light"
     },
     "output_type": "display_data"
    }
   ],
   "source": [
    "plt.plot(x_test, lr_predict, color='green', linewidth = 3)\n",
    "plt.xlabel('Confirmed')\n",
    "plt.ylabel('Death')\n",
    "plt.title('Linear Regression Prediction')\n",
    "plt.show()"
   ]
  },
  {
   "cell_type": "code",
   "execution_count": 16,
   "metadata": {},
   "outputs": [],
   "source": [
    "from sklearn.metrics import accuracy_score"
   ]
  },
  {
   "cell_type": "markdown",
   "metadata": {},
   "source": [
    "### Random Forest"
   ]
  },
  {
   "cell_type": "code",
   "execution_count": 17,
   "metadata": {},
   "outputs": [],
   "source": [
    "from sklearn.ensemble import RandomForestClassifier"
   ]
  },
  {
   "cell_type": "code",
   "execution_count": 18,
   "metadata": {},
   "outputs": [
    {
     "data": {
      "text/html": [
       "<div>\n",
       "<style scoped>\n",
       "    .dataframe tbody tr th:only-of-type {\n",
       "        vertical-align: middle;\n",
       "    }\n",
       "\n",
       "    .dataframe tbody tr th {\n",
       "        vertical-align: top;\n",
       "    }\n",
       "\n",
       "    .dataframe thead th {\n",
       "        text-align: right;\n",
       "    }\n",
       "</style>\n",
       "<table border=\"1\" class=\"dataframe\">\n",
       "  <thead>\n",
       "    <tr style=\"text-align: right;\">\n",
       "      <th></th>\n",
       "      <th>Country</th>\n",
       "      <th>Confirmed</th>\n",
       "      <th>Death</th>\n",
       "      <th>Recovered</th>\n",
       "      <th>Population</th>\n",
       "    </tr>\n",
       "  </thead>\n",
       "  <tbody>\n",
       "    <tr>\n",
       "      <th>0</th>\n",
       "      <td>Afghanistan</td>\n",
       "      <td>45966</td>\n",
       "      <td>1752</td>\n",
       "      <td>36709</td>\n",
       "      <td>38928341</td>\n",
       "    </tr>\n",
       "    <tr>\n",
       "      <th>1</th>\n",
       "      <td>Albania</td>\n",
       "      <td>36790</td>\n",
       "      <td>787</td>\n",
       "      <td>18152</td>\n",
       "      <td>2877800</td>\n",
       "    </tr>\n",
       "    <tr>\n",
       "      <th>2</th>\n",
       "      <td>Algeria</td>\n",
       "      <td>81212</td>\n",
       "      <td>2393</td>\n",
       "      <td>52568</td>\n",
       "      <td>43851043</td>\n",
       "    </tr>\n",
       "    <tr>\n",
       "      <th>3</th>\n",
       "      <td>Andorra</td>\n",
       "      <td>6610</td>\n",
       "      <td>76</td>\n",
       "      <td>5710</td>\n",
       "      <td>77265</td>\n",
       "    </tr>\n",
       "    <tr>\n",
       "      <th>4</th>\n",
       "      <td>Angola</td>\n",
       "      <td>15087</td>\n",
       "      <td>345</td>\n",
       "      <td>7763</td>\n",
       "      <td>32866268</td>\n",
       "    </tr>\n",
       "  </tbody>\n",
       "</table>\n",
       "</div>"
      ],
      "text/plain": [
       "       Country  Confirmed  Death  Recovered  Population\n",
       "0  Afghanistan      45966   1752      36709    38928341\n",
       "1      Albania      36790    787      18152     2877800\n",
       "2      Algeria      81212   2393      52568    43851043\n",
       "3      Andorra       6610     76       5710       77265\n",
       "4       Angola      15087    345       7763    32866268"
      ]
     },
     "execution_count": 18,
     "metadata": {},
     "output_type": "execute_result"
    }
   ],
   "source": [
    "countrywise.head()"
   ]
  },
  {
   "cell_type": "code",
   "execution_count": 19,
   "metadata": {},
   "outputs": [],
   "source": [
    "#Incidence rate formula\n",
    "countrywise['Incidence rate'] = (countrywise['Confirmed']/countrywise['Population']*10000).round(decimals=2)"
   ]
  },
  {
   "cell_type": "code",
   "execution_count": 20,
   "metadata": {},
   "outputs": [],
   "source": [
    "#Incidence rate >3 : high risk\n",
    "#Incidence rate >1.5 : moderate\n",
    "#Incidence rate < 1.5 : low\n",
    "\n",
    "risk = []\n",
    "for i in countrywise['Incidence rate']:\n",
    "    if(i < 1.5):\n",
    "        risk.append(0)\n",
    "    elif (i < 3):\n",
    "        risk.append(1)\n",
    "    else:\n",
    "        risk.append(2)\n",
    "        \n",
    "countrywise['Risk'] = risk"
   ]
  },
  {
   "cell_type": "code",
   "execution_count": 21,
   "metadata": {},
   "outputs": [
    {
     "data": {
      "text/html": [
       "<div>\n",
       "<style scoped>\n",
       "    .dataframe tbody tr th:only-of-type {\n",
       "        vertical-align: middle;\n",
       "    }\n",
       "\n",
       "    .dataframe tbody tr th {\n",
       "        vertical-align: top;\n",
       "    }\n",
       "\n",
       "    .dataframe thead th {\n",
       "        text-align: right;\n",
       "    }\n",
       "</style>\n",
       "<table border=\"1\" class=\"dataframe\">\n",
       "  <thead>\n",
       "    <tr style=\"text-align: right;\">\n",
       "      <th></th>\n",
       "      <th>Country</th>\n",
       "      <th>Confirmed</th>\n",
       "      <th>Death</th>\n",
       "      <th>Recovered</th>\n",
       "      <th>Population</th>\n",
       "      <th>Incidence rate</th>\n",
       "      <th>Risk</th>\n",
       "    </tr>\n",
       "  </thead>\n",
       "  <tbody>\n",
       "    <tr>\n",
       "      <th>18</th>\n",
       "      <td>Benin</td>\n",
       "      <td>2974</td>\n",
       "      <td>43</td>\n",
       "      <td>2819</td>\n",
       "      <td>12123198</td>\n",
       "      <td>2.45</td>\n",
       "      <td>1</td>\n",
       "    </tr>\n",
       "    <tr>\n",
       "      <th>26</th>\n",
       "      <td>Burkina Faso</td>\n",
       "      <td>2816</td>\n",
       "      <td>68</td>\n",
       "      <td>2579</td>\n",
       "      <td>20903278</td>\n",
       "      <td>1.35</td>\n",
       "      <td>0</td>\n",
       "    </tr>\n",
       "    <tr>\n",
       "      <th>28</th>\n",
       "      <td>Burundi</td>\n",
       "      <td>681</td>\n",
       "      <td>1</td>\n",
       "      <td>575</td>\n",
       "      <td>11890781</td>\n",
       "      <td>0.57</td>\n",
       "      <td>0</td>\n",
       "    </tr>\n",
       "    <tr>\n",
       "      <th>30</th>\n",
       "      <td>Cambodia</td>\n",
       "      <td>315</td>\n",
       "      <td>0</td>\n",
       "      <td>301</td>\n",
       "      <td>16718971</td>\n",
       "      <td>0.19</td>\n",
       "      <td>0</td>\n",
       "    </tr>\n",
       "    <tr>\n",
       "      <th>34</th>\n",
       "      <td>Chad</td>\n",
       "      <td>1663</td>\n",
       "      <td>101</td>\n",
       "      <td>1504</td>\n",
       "      <td>16425859</td>\n",
       "      <td>1.01</td>\n",
       "      <td>0</td>\n",
       "    </tr>\n",
       "    <tr>\n",
       "      <th>36</th>\n",
       "      <td>China</td>\n",
       "      <td>92681</td>\n",
       "      <td>4743</td>\n",
       "      <td>86968</td>\n",
       "      <td>1439323776</td>\n",
       "      <td>0.64</td>\n",
       "      <td>0</td>\n",
       "    </tr>\n",
       "    <tr>\n",
       "      <th>39</th>\n",
       "      <td>Congo (Brazzaville)</td>\n",
       "      <td>5774</td>\n",
       "      <td>94</td>\n",
       "      <td>4988</td>\n",
       "      <td>89561403</td>\n",
       "      <td>0.64</td>\n",
       "      <td>0</td>\n",
       "    </tr>\n",
       "    <tr>\n",
       "      <th>55</th>\n",
       "      <td>Eritrea</td>\n",
       "      <td>577</td>\n",
       "      <td>0</td>\n",
       "      <td>498</td>\n",
       "      <td>3546427</td>\n",
       "      <td>1.63</td>\n",
       "      <td>1</td>\n",
       "    </tr>\n",
       "    <tr>\n",
       "      <th>59</th>\n",
       "      <td>Fiji</td>\n",
       "      <td>38</td>\n",
       "      <td>2</td>\n",
       "      <td>33</td>\n",
       "      <td>896444</td>\n",
       "      <td>0.42</td>\n",
       "      <td>0</td>\n",
       "    </tr>\n",
       "    <tr>\n",
       "      <th>94</th>\n",
       "      <td>Laos</td>\n",
       "      <td>39</td>\n",
       "      <td>0</td>\n",
       "      <td>24</td>\n",
       "      <td>7275556</td>\n",
       "      <td>0.05</td>\n",
       "      <td>0</td>\n",
       "    </tr>\n",
       "    <tr>\n",
       "      <th>103</th>\n",
       "      <td>MS Zaandam</td>\n",
       "      <td>9</td>\n",
       "      <td>2</td>\n",
       "      <td>0</td>\n",
       "      <td>76804</td>\n",
       "      <td>1.17</td>\n",
       "      <td>0</td>\n",
       "    </tr>\n",
       "    <tr>\n",
       "      <th>108</th>\n",
       "      <td>Mali</td>\n",
       "      <td>4659</td>\n",
       "      <td>149</td>\n",
       "      <td>3138</td>\n",
       "      <td>20250834</td>\n",
       "      <td>2.30</td>\n",
       "      <td>1</td>\n",
       "    </tr>\n",
       "    <tr>\n",
       "      <th>110</th>\n",
       "      <td>Marshall Islands</td>\n",
       "      <td>4</td>\n",
       "      <td>0</td>\n",
       "      <td>1</td>\n",
       "      <td>59326</td>\n",
       "      <td>0.67</td>\n",
       "      <td>0</td>\n",
       "    </tr>\n",
       "    <tr>\n",
       "      <th>116</th>\n",
       "      <td>Mongolia</td>\n",
       "      <td>784</td>\n",
       "      <td>0</td>\n",
       "      <td>354</td>\n",
       "      <td>3278292</td>\n",
       "      <td>2.39</td>\n",
       "      <td>1</td>\n",
       "    </tr>\n",
       "    <tr>\n",
       "      <th>125</th>\n",
       "      <td>Niger</td>\n",
       "      <td>1484</td>\n",
       "      <td>70</td>\n",
       "      <td>1205</td>\n",
       "      <td>24206636</td>\n",
       "      <td>0.61</td>\n",
       "      <td>0</td>\n",
       "    </tr>\n",
       "    <tr>\n",
       "      <th>132</th>\n",
       "      <td>Papua New Guinea</td>\n",
       "      <td>645</td>\n",
       "      <td>7</td>\n",
       "      <td>588</td>\n",
       "      <td>8947027</td>\n",
       "      <td>0.72</td>\n",
       "      <td>0</td>\n",
       "    </tr>\n",
       "    <tr>\n",
       "      <th>155</th>\n",
       "      <td>Solomon Islands</td>\n",
       "      <td>17</td>\n",
       "      <td>0</td>\n",
       "      <td>5</td>\n",
       "      <td>686884</td>\n",
       "      <td>0.25</td>\n",
       "      <td>0</td>\n",
       "    </tr>\n",
       "    <tr>\n",
       "      <th>156</th>\n",
       "      <td>Somalia</td>\n",
       "      <td>4451</td>\n",
       "      <td>113</td>\n",
       "      <td>3417</td>\n",
       "      <td>15893219</td>\n",
       "      <td>2.80</td>\n",
       "      <td>1</td>\n",
       "    </tr>\n",
       "    <tr>\n",
       "      <th>158</th>\n",
       "      <td>South Sudan</td>\n",
       "      <td>3104</td>\n",
       "      <td>61</td>\n",
       "      <td>2954</td>\n",
       "      <td>11193729</td>\n",
       "      <td>2.77</td>\n",
       "      <td>1</td>\n",
       "    </tr>\n",
       "    <tr>\n",
       "      <th>166</th>\n",
       "      <td>Taiwan*</td>\n",
       "      <td>648</td>\n",
       "      <td>7</td>\n",
       "      <td>556</td>\n",
       "      <td>23806638</td>\n",
       "      <td>0.27</td>\n",
       "      <td>0</td>\n",
       "    </tr>\n",
       "    <tr>\n",
       "      <th>168</th>\n",
       "      <td>Tanzania</td>\n",
       "      <td>509</td>\n",
       "      <td>21</td>\n",
       "      <td>183</td>\n",
       "      <td>59734213</td>\n",
       "      <td>0.09</td>\n",
       "      <td>0</td>\n",
       "    </tr>\n",
       "    <tr>\n",
       "      <th>169</th>\n",
       "      <td>Thailand</td>\n",
       "      <td>3977</td>\n",
       "      <td>60</td>\n",
       "      <td>3800</td>\n",
       "      <td>69799978</td>\n",
       "      <td>0.57</td>\n",
       "      <td>0</td>\n",
       "    </tr>\n",
       "    <tr>\n",
       "      <th>170</th>\n",
       "      <td>Timor-Leste</td>\n",
       "      <td>30</td>\n",
       "      <td>0</td>\n",
       "      <td>30</td>\n",
       "      <td>1318442</td>\n",
       "      <td>0.23</td>\n",
       "      <td>0</td>\n",
       "    </tr>\n",
       "    <tr>\n",
       "      <th>183</th>\n",
       "      <td>Vietnam</td>\n",
       "      <td>1341</td>\n",
       "      <td>35</td>\n",
       "      <td>1179</td>\n",
       "      <td>97338583</td>\n",
       "      <td>0.14</td>\n",
       "      <td>0</td>\n",
       "    </tr>\n",
       "    <tr>\n",
       "      <th>185</th>\n",
       "      <td>Western Sahara</td>\n",
       "      <td>10</td>\n",
       "      <td>1</td>\n",
       "      <td>8</td>\n",
       "      <td>597330</td>\n",
       "      <td>0.17</td>\n",
       "      <td>0</td>\n",
       "    </tr>\n",
       "    <tr>\n",
       "      <th>186</th>\n",
       "      <td>Yemen</td>\n",
       "      <td>2160</td>\n",
       "      <td>615</td>\n",
       "      <td>1498</td>\n",
       "      <td>29825968</td>\n",
       "      <td>0.72</td>\n",
       "      <td>0</td>\n",
       "    </tr>\n",
       "  </tbody>\n",
       "</table>\n",
       "</div>"
      ],
      "text/plain": [
       "                 Country  Confirmed  Death  Recovered  Population  \\\n",
       "18                 Benin       2974     43       2819    12123198   \n",
       "26          Burkina Faso       2816     68       2579    20903278   \n",
       "28               Burundi        681      1        575    11890781   \n",
       "30              Cambodia        315      0        301    16718971   \n",
       "34                  Chad       1663    101       1504    16425859   \n",
       "36                 China      92681   4743      86968  1439323776   \n",
       "39   Congo (Brazzaville)       5774     94       4988    89561403   \n",
       "55               Eritrea        577      0        498     3546427   \n",
       "59                  Fiji         38      2         33      896444   \n",
       "94                  Laos         39      0         24     7275556   \n",
       "103           MS Zaandam          9      2          0       76804   \n",
       "108                 Mali       4659    149       3138    20250834   \n",
       "110     Marshall Islands          4      0          1       59326   \n",
       "116             Mongolia        784      0        354     3278292   \n",
       "125                Niger       1484     70       1205    24206636   \n",
       "132     Papua New Guinea        645      7        588     8947027   \n",
       "155      Solomon Islands         17      0          5      686884   \n",
       "156              Somalia       4451    113       3417    15893219   \n",
       "158          South Sudan       3104     61       2954    11193729   \n",
       "166              Taiwan*        648      7        556    23806638   \n",
       "168             Tanzania        509     21        183    59734213   \n",
       "169             Thailand       3977     60       3800    69799978   \n",
       "170          Timor-Leste         30      0         30     1318442   \n",
       "183              Vietnam       1341     35       1179    97338583   \n",
       "185       Western Sahara         10      1          8      597330   \n",
       "186                Yemen       2160    615       1498    29825968   \n",
       "\n",
       "     Incidence rate  Risk  \n",
       "18             2.45     1  \n",
       "26             1.35     0  \n",
       "28             0.57     0  \n",
       "30             0.19     0  \n",
       "34             1.01     0  \n",
       "36             0.64     0  \n",
       "39             0.64     0  \n",
       "55             1.63     1  \n",
       "59             0.42     0  \n",
       "94             0.05     0  \n",
       "103            1.17     0  \n",
       "108            2.30     1  \n",
       "110            0.67     0  \n",
       "116            2.39     1  \n",
       "125            0.61     0  \n",
       "132            0.72     0  \n",
       "155            0.25     0  \n",
       "156            2.80     1  \n",
       "158            2.77     1  \n",
       "166            0.27     0  \n",
       "168            0.09     0  \n",
       "169            0.57     0  \n",
       "170            0.23     0  \n",
       "183            0.14     0  \n",
       "185            0.17     0  \n",
       "186            0.72     0  "
      ]
     },
     "execution_count": 21,
     "metadata": {},
     "output_type": "execute_result"
    }
   ],
   "source": [
    "countrywise[countrywise['Incidence rate']<3]"
   ]
  },
  {
   "cell_type": "code",
   "execution_count": 22,
   "metadata": {},
   "outputs": [
    {
     "data": {
      "text/plain": [
       "1.0"
      ]
     },
     "execution_count": 22,
     "metadata": {},
     "output_type": "execute_result"
    }
   ],
   "source": [
    "x = countrywise[['Confirmed', 'Population', 'Incidence rate']] #Features\n",
    "y = countrywise['Risk'] #Label\n",
    "x_train, x_test, y_train, y_test = train_test_split(x, y, test_size = 0.3)\n",
    "randomForest = RandomForestClassifier().fit(x_train, y_train)\n",
    "rf_predict = randomForest.predict(x_test)\n",
    "accuracy_score(y_test, rf_predict)"
   ]
  },
  {
   "cell_type": "code",
   "execution_count": 23,
   "metadata": {},
   "outputs": [
    {
     "data": {
      "text/plain": [
       "1.0"
      ]
     },
     "execution_count": 23,
     "metadata": {},
     "output_type": "execute_result"
    }
   ],
   "source": [
    "x = countrywise[['Confirmed', 'Population']] #Features\n",
    "y = countrywise['Risk'] #Label\n",
    "x_train, x_test, y_train, y_test = train_test_split(x, y, test_size = 0.3)\n",
    "randomForest = RandomForestClassifier().fit(x_train, y_train)\n",
    "rf_predict = randomForest.predict(x_test)\n",
    "accuracy_score(y_test, rf_predict)"
   ]
  },
  {
   "cell_type": "code",
   "execution_count": 24,
   "metadata": {},
   "outputs": [
    {
     "data": {
      "text/plain": [
       "array([2])"
      ]
     },
     "execution_count": 24,
     "metadata": {},
     "output_type": "execute_result"
    }
   ],
   "source": [
    "randomForest.predict([[100, 1000000]])"
   ]
  },
  {
   "cell_type": "code",
   "execution_count": 25,
   "metadata": {},
   "outputs": [
    {
     "data": {
      "text/plain": [
       "0.7894736842105263"
      ]
     },
     "execution_count": 25,
     "metadata": {},
     "output_type": "execute_result"
    }
   ],
   "source": [
    "#what if take other values???\n",
    "x = countrywise[['Confirmed', 'Death', 'Recovered']] #Features\n",
    "y = countrywise['Risk'] #Label\n",
    "x_train, x_test, y_train, y_test = train_test_split(x, y, test_size = 0.3)\n",
    "randomForest = RandomForestClassifier().fit(x_train, y_train)\n",
    "rf_predict = randomForest.predict(x_test)\n",
    "accuracy_score(y_test, rf_predict)"
   ]
  },
  {
   "cell_type": "markdown",
   "metadata": {},
   "source": [
    "## Decision Tree"
   ]
  },
  {
   "cell_type": "code",
   "execution_count": 26,
   "metadata": {},
   "outputs": [],
   "source": [
    "from sklearn.tree import DecisionTreeClassifier"
   ]
  },
  {
   "cell_type": "code",
   "execution_count": 27,
   "metadata": {},
   "outputs": [
    {
     "data": {
      "text/plain": [
       "1.0"
      ]
     },
     "execution_count": 27,
     "metadata": {},
     "output_type": "execute_result"
    }
   ],
   "source": [
    "x = countrywise[['Confirmed', 'Population', 'Incidence rate']] #Features\n",
    "y = countrywise['Risk'] #Label\n",
    "\n",
    "x_train, x_test, y_train, y_test = train_test_split(x, y, test_size = 0.3)\n",
    "decisionTree = DecisionTreeClassifier().fit(x_train, y_train)\n",
    "dt_predict = decisionTree.predict(x_test)\n",
    "accuracy_score(y_test, dt_predict)"
   ]
  },
  {
   "cell_type": "code",
   "execution_count": 28,
   "metadata": {},
   "outputs": [
    {
     "data": {
      "text/plain": [
       "0.9473684210526315"
      ]
     },
     "execution_count": 28,
     "metadata": {},
     "output_type": "execute_result"
    }
   ],
   "source": [
    "x = countrywise[['Confirmed', 'Population']] #Features\n",
    "y = countrywise['Risk'] #Label\n",
    "\n",
    "x_train, x_test, y_train, y_test = train_test_split(x, y, test_size = 0.3)\n",
    "decisionTree = DecisionTreeClassifier().fit(x_train, y_train)\n",
    "dt_predict = decisionTree.predict(x_test)\n",
    "accuracy_score(y_test, dt_predict)"
   ]
  },
  {
   "cell_type": "code",
   "execution_count": 29,
   "metadata": {},
   "outputs": [
    {
     "data": {
      "text/plain": [
       "0.8771929824561403"
      ]
     },
     "execution_count": 29,
     "metadata": {},
     "output_type": "execute_result"
    }
   ],
   "source": [
    "x = countrywise[['Confirmed', 'Death', 'Recovered']] #Features\n",
    "y = countrywise['Risk'] #Label\n",
    "\n",
    "x_train, x_test, y_train, y_test = train_test_split(x, y, test_size = 0.3)\n",
    "decisionTree = DecisionTreeClassifier().fit(x_train, y_train)\n",
    "dt_predict = decisionTree.predict(x_test)\n",
    "accuracy_score(y_test, dt_predict)"
   ]
  },
  {
   "cell_type": "markdown",
   "metadata": {},
   "source": [
    "## KNN"
   ]
  },
  {
   "cell_type": "markdown",
   "metadata": {},
   "source": [
    "#### Why KNN is far from accurate???"
   ]
  },
  {
   "cell_type": "code",
   "execution_count": 30,
   "metadata": {},
   "outputs": [],
   "source": [
    "from sklearn.neighbors import KNeighborsClassifier"
   ]
  },
  {
   "cell_type": "code",
   "execution_count": 31,
   "metadata": {},
   "outputs": [
    {
     "data": {
      "text/plain": [
       "0.9473684210526315"
      ]
     },
     "execution_count": 31,
     "metadata": {},
     "output_type": "execute_result"
    }
   ],
   "source": [
    "x = countrywise[['Incidence rate']] #Features\n",
    "y = countrywise['Risk'] #Label\n",
    "\n",
    "x_train, x_test, y_train, y_test = train_test_split(x, y, test_size = 0.3)\n",
    "knn = KNeighborsClassifier(n_neighbors=20).fit(x_train, y_train)\n",
    "knn_predict = knn.predict(x_test)\n",
    "accuracy_score(y_test, knn_predict)"
   ]
  },
  {
   "cell_type": "code",
   "execution_count": 32,
   "metadata": {},
   "outputs": [
    {
     "data": {
      "text/plain": [
       "0.9122807017543859"
      ]
     },
     "execution_count": 32,
     "metadata": {},
     "output_type": "execute_result"
    }
   ],
   "source": [
    "x = countrywise[['Confirmed', 'Population']] #Features\n",
    "y = countrywise['Risk'] #Label\n",
    "\n",
    "x_train, x_test, y_train, y_test = train_test_split(x, y, test_size = 0.3)\n",
    "knn = KNeighborsClassifier(n_neighbors=20).fit(x_train, y_train)\n",
    "knn_predict = knn.predict(x_test)\n",
    "accuracy_score(y_test, knn_predict)"
   ]
  },
  {
   "cell_type": "code",
   "execution_count": 33,
   "metadata": {},
   "outputs": [
    {
     "data": {
      "text/plain": [
       "0.7894736842105263"
      ]
     },
     "execution_count": 33,
     "metadata": {},
     "output_type": "execute_result"
    }
   ],
   "source": [
    "x = countrywise[['Confirmed', 'Death', 'Recovered']] #Features\n",
    "y = countrywise['Risk'] #Label\n",
    "\n",
    "x_train, x_test, y_train, y_test = train_test_split(x, y, test_size = 0.3)\n",
    "knn = KNeighborsClassifier(n_neighbors=20).fit(x_train, y_train)\n",
    "knn_predict = knn.predict(x_test)\n",
    "accuracy_score(y_test, knn_predict)"
   ]
  },
  {
   "cell_type": "markdown",
   "metadata": {},
   "source": [
    "## K-Mean"
   ]
  },
  {
   "cell_type": "code",
   "execution_count": 34,
   "metadata": {},
   "outputs": [],
   "source": [
    "from sklearn.cluster import KMeans"
   ]
  },
  {
   "cell_type": "markdown",
   "metadata": {},
   "source": [
    "#### Try 2"
   ]
  },
  {
   "cell_type": "code",
   "execution_count": 35,
   "metadata": {},
   "outputs": [
    {
     "data": {
      "image/png": "[encoded data removed]",
      "text/plain": [
       "<Figure size 432x288 with 1 Axes>"
      ]
     },
     "metadata": {
      "needs_background": "light"
     },
     "output_type": "display_data"
    }
   ],
   "source": [
    "plt.xlabel('Confirmed')\n",
    "plt.ylabel('Incidence rate')\n",
    "plt.scatter(countrywise.Confirmed, countrywise['Incidence rate'], marker='+', color='orange')\n",
    "plt.show()"
   ]
  },
  {
   "cell_type": "code",
   "execution_count": 36,
   "metadata": {},
   "outputs": [
    {
     "data": {
      "text/plain": [
       "KMeans(n_clusters=3)"
      ]
     },
     "execution_count": 36,
     "metadata": {},
     "output_type": "execute_result"
    }
   ],
   "source": [
    "km = KMeans(n_clusters = 3)\n",
    "km"
   ]
  },
  {
   "cell_type": "code",
   "execution_count": 37,
   "metadata": {},
   "outputs": [
    {
     "data": {
      "text/plain": [
       "array([0, 0, 0, 0, 0, 0, 2, 0, 0, 0, 0, 0, 0, 0, 0, 0, 0, 0, 0, 0, 0, 0,\n",
       "       0, 1, 0, 0, 0, 0, 0, 0, 0, 0, 0, 0, 0, 0, 0, 2, 0, 0, 0, 0, 0, 0,\n",
       "       0, 0, 0, 0, 0, 0, 0, 0, 0, 0, 0, 0, 0, 0, 0, 0, 0, 2, 0, 0, 0, 2,\n",
       "       0, 0, 0, 0, 0, 0, 0, 0, 0, 0, 0, 0, 1, 0, 2, 0, 0, 0, 2, 0, 0, 0,\n",
       "       0, 0, 0, 0, 0, 0, 0, 0, 0, 0, 0, 0, 0, 0, 0, 0, 0, 0, 0, 0, 0, 0,\n",
       "       0, 0, 0, 2, 0, 0, 0, 0, 0, 0, 0, 0, 0, 0, 0, 0, 0, 0, 0, 0, 0, 0,\n",
       "       0, 0, 2, 0, 2, 0, 0, 0, 2, 0, 0, 0, 0, 0, 0, 0, 0, 0, 0, 0, 0, 0,\n",
       "       0, 0, 0, 2, 0, 2, 0, 0, 0, 0, 0, 0, 0, 0, 0, 0, 0, 0, 0, 0, 0, 1,\n",
       "       0, 2, 0, 2, 0, 0, 0, 0, 0, 0, 0, 0, 0], dtype=int32)"
      ]
     },
     "execution_count": 37,
     "metadata": {},
     "output_type": "execute_result"
    }
   ],
   "source": [
    "y_pred = km.fit_predict(countrywise[['Confirmed', 'Incidence rate']])\n",
    "y_pred"
   ]
  },
  {
   "cell_type": "code",
   "execution_count": 38,
   "metadata": {},
   "outputs": [
    {
     "data": {
      "text/html": [
       "<div>\n",
       "<style scoped>\n",
       "    .dataframe tbody tr th:only-of-type {\n",
       "        vertical-align: middle;\n",
       "    }\n",
       "\n",
       "    .dataframe tbody tr th {\n",
       "        vertical-align: top;\n",
       "    }\n",
       "\n",
       "    .dataframe thead th {\n",
       "        text-align: right;\n",
       "    }\n",
       "</style>\n",
       "<table border=\"1\" class=\"dataframe\">\n",
       "  <thead>\n",
       "    <tr style=\"text-align: right;\">\n",
       "      <th></th>\n",
       "      <th>Country</th>\n",
       "      <th>Confirmed</th>\n",
       "      <th>Death</th>\n",
       "      <th>Recovered</th>\n",
       "      <th>Population</th>\n",
       "      <th>Incidence rate</th>\n",
       "      <th>Risk</th>\n",
       "      <th>km_cluster</th>\n",
       "    </tr>\n",
       "  </thead>\n",
       "  <tbody>\n",
       "    <tr>\n",
       "      <th>0</th>\n",
       "      <td>Afghanistan</td>\n",
       "      <td>45966</td>\n",
       "      <td>1752</td>\n",
       "      <td>36709</td>\n",
       "      <td>38928341</td>\n",
       "      <td>11.81</td>\n",
       "      <td>2</td>\n",
       "      <td>0</td>\n",
       "    </tr>\n",
       "    <tr>\n",
       "      <th>1</th>\n",
       "      <td>Albania</td>\n",
       "      <td>36790</td>\n",
       "      <td>787</td>\n",
       "      <td>18152</td>\n",
       "      <td>2877800</td>\n",
       "      <td>127.84</td>\n",
       "      <td>2</td>\n",
       "      <td>0</td>\n",
       "    </tr>\n",
       "    <tr>\n",
       "      <th>2</th>\n",
       "      <td>Algeria</td>\n",
       "      <td>81212</td>\n",
       "      <td>2393</td>\n",
       "      <td>52568</td>\n",
       "      <td>43851043</td>\n",
       "      <td>18.52</td>\n",
       "      <td>2</td>\n",
       "      <td>0</td>\n",
       "    </tr>\n",
       "  </tbody>\n",
       "</table>\n",
       "</div>"
      ],
      "text/plain": [
       "       Country  Confirmed  Death  Recovered  Population  Incidence rate  Risk  \\\n",
       "0  Afghanistan      45966   1752      36709    38928341           11.81     2   \n",
       "1      Albania      36790    787      18152     2877800          127.84     2   \n",
       "2      Algeria      81212   2393      52568    43851043           18.52     2   \n",
       "\n",
       "   km_cluster  \n",
       "0           0  \n",
       "1           0  \n",
       "2           0  "
      ]
     },
     "execution_count": 38,
     "metadata": {},
     "output_type": "execute_result"
    }
   ],
   "source": [
    "countrywise['km_cluster'] = y_pred\n",
    "countrywise.head(3)"
   ]
  },
  {
   "cell_type": "code",
   "execution_count": 39,
   "metadata": {},
   "outputs": [
    {
     "data": {
      "image/png": "[encoded data removed]",
      "text/plain": [
       "<Figure size 432x288 with 1 Axes>"
      ]
     },
     "metadata": {
      "needs_background": "light"
     },
     "output_type": "display_data"
    }
   ],
   "source": [
    "km0 = countrywise[countrywise.km_cluster==0]\n",
    "km1 = countrywise[countrywise.km_cluster==1]\n",
    "km2 = countrywise[countrywise.km_cluster==2]\n",
    "plt.scatter(km0.Confirmed, km0['Incidence rate'], color='green')\n",
    "plt.scatter(km1.Confirmed, km1['Incidence rate'], color='red')\n",
    "plt.scatter(km2.Confirmed, km2['Incidence rate'], color='black')\n",
    "plt.scatter(km.cluster_centers_[:, 0], km.cluster_centers_[:, 1], color='purple', \n",
    "            marker='*', label='centroid')\n",
    "plt.xlabel('Confirmed')\n",
    "plt.ylabel('Risk')\n",
    "plt.legend()\n",
    "plt.show()"
   ]
  },
  {
   "cell_type": "markdown",
   "metadata": {},
   "source": [
    "#### Try 1"
   ]
  },
  {
   "cell_type": "code",
   "execution_count": 40,
   "metadata": {},
   "outputs": [
    {
     "data": {
      "text/plain": [
       "0.05263157894736842"
      ]
     },
     "execution_count": 40,
     "metadata": {},
     "output_type": "execute_result"
    }
   ],
   "source": [
    "x = countrywise[['Confirmed', 'Population', 'Incidence rate']] #Features\n",
    "y = countrywise['Risk'] #Label\n",
    "\n",
    "x_train, x_test, y_train, y_test = train_test_split(x, y, test_size = 0.3)\n",
    "kmeans = KMeans().fit(x_train, y_train)\n",
    "kmeans_predict = kmeans.predict(x_test)\n",
    "accuracy_score(y_test, kmeans_predict)"
   ]
  },
  {
   "cell_type": "code",
   "execution_count": 41,
   "metadata": {},
   "outputs": [
    {
     "data": {
      "text/plain": [
       "0.12280701754385964"
      ]
     },
     "execution_count": 41,
     "metadata": {},
     "output_type": "execute_result"
    }
   ],
   "source": [
    "x = countrywise[['Confirmed', 'Death', 'Recovered']] #Features\n",
    "y = countrywise['Risk'] #Label\n",
    "\n",
    "x_train, x_test, y_train, y_test = train_test_split(x, y, test_size = 0.3)\n",
    "kmeans = KMeans().fit(x_train, y_train)\n",
    "kmeans_predict = kmeans.predict(x_test)\n",
    "accuracy_score(y_test, kmeans_predict)"
   ]
  },
  {
   "cell_type": "markdown",
   "metadata": {},
   "source": [
    "# SVM"
   ]
  },
  {
   "cell_type": "code",
   "execution_count": 42,
   "metadata": {},
   "outputs": [],
   "source": [
    "from sklearn.svm import SVC"
   ]
  },
  {
   "cell_type": "code",
   "execution_count": 43,
   "metadata": {},
   "outputs": [
    {
     "data": {
      "text/plain": [
       "0.7719298245614035"
      ]
     },
     "execution_count": 43,
     "metadata": {},
     "output_type": "execute_result"
    }
   ],
   "source": [
    "x = countrywise[['Confirmed', 'Population', 'Incidence rate']] #Features\n",
    "y = countrywise['Risk'] #Label\n",
    "\n",
    "x_train, x_test, y_train, y_test = train_test_split(x, y, test_size = 0.3)\n",
    "svm = SVC().fit(x_train, y_train)\n",
    "svm_predict = svm.predict(x_test)\n",
    "accuracy_score(y_test, svm_predict)"
   ]
  },
  {
   "cell_type": "code",
   "execution_count": 44,
   "metadata": {},
   "outputs": [],
   "source": [
    "# 0 - low, 1 - mid, 2 - high\n",
    "low = countrywise[countrywise.Risk == 0]\n",
    "mid = countrywise[countrywise.Risk == 1]\n",
    "high = countrywise[countrywise.Risk == 2]"
   ]
  },
  {
   "cell_type": "code",
   "execution_count": 45,
   "metadata": {},
   "outputs": [
    {
     "data": {
      "image/png": "[encoded data removed]",
      "text/plain": [
       "<Figure size 432x288 with 1 Axes>"
      ]
     },
     "metadata": {
      "needs_background": "light"
     },
     "output_type": "display_data"
    }
   ],
   "source": [
    "plt.xlabel('Confirmed')\n",
    "plt.ylabel('Death')\n",
    "plt.scatter(low['Confirmed'], low['Death'], color='green', marker='+')\n",
    "plt.scatter(high['Confirmed'], high['Death'], color='blue', marker='.')\n",
    "plt.show()"
   ]
  },
  {
   "cell_type": "markdown",
   "metadata": {},
   "source": [
    "#### This will explain why KNN and SVM bad at predicting due to no clusters"
   ]
  },
  {
   "cell_type": "code",
   "execution_count": 46,
   "metadata": {},
   "outputs": [],
   "source": [
    "x = countrywise[['Confirmed', 'Population', 'Incidence rate']] #Features\n",
    "y = countrywise['Risk'] #Label"
   ]
  },
  {
   "cell_type": "code",
   "execution_count": 47,
   "metadata": {},
   "outputs": [],
   "source": [
    "x_train, x_test, y_train, y_test = train_test_split(x, y, test_size = 0.3)"
   ]
  },
  {
   "cell_type": "code",
   "execution_count": 48,
   "metadata": {},
   "outputs": [
    {
     "data": {
      "text/plain": [
       "0.8596491228070176"
      ]
     },
     "execution_count": 48,
     "metadata": {},
     "output_type": "execute_result"
    }
   ],
   "source": [
    "svm = SVC().fit(x_train, y_train)\n",
    "svm_predict = svm.predict(x_test)\n",
    "accuracy_score(y_test, svm_predict)"
   ]
  },
  {
   "cell_type": "code",
   "execution_count": 49,
   "metadata": {},
   "outputs": [
    {
     "data": {
      "image/png": "[encoded data removed]",
      "text/plain": [
       "<Figure size 432x288 with 1 Axes>"
      ]
     },
     "metadata": {
      "needs_background": "light"
     },
     "output_type": "display_data"
    }
   ],
   "source": [
    "plt.xlabel('Confirmed')\n",
    "plt.ylabel('Incidence rate')\n",
    "plt.scatter(low['Confirmed'], low['Incidence rate'], color='green', marker='+')\n",
    "plt.scatter(high['Confirmed'], high['Incidence rate'], color='blue', marker='.')\n",
    "plt.show()"
   ]
  },
  {
   "cell_type": "markdown",
   "metadata": {},
   "source": [
    "# Logistic Regression"
   ]
  },
  {
   "cell_type": "code",
   "execution_count": 50,
   "metadata": {},
   "outputs": [
    {
     "data": {
      "image/png": "[encoded data removed]",
      "text/plain": [
       "<Figure size 432x288 with 1 Axes>"
      ]
     },
     "metadata": {
      "needs_background": "light"
     },
     "output_type": "display_data"
    }
   ],
   "source": [
    "plt.xlabel('Confirmed')\n",
    "plt.ylabel('Risk')\n",
    "plt.scatter(countrywise.Confirmed, countrywise.Risk, marker='+', color='red')\n",
    "plt.show()"
   ]
  },
  {
   "cell_type": "code",
   "execution_count": 51,
   "metadata": {},
   "outputs": [],
   "source": [
    "x_train, x_test, y_train, y_test = train_test_split(countrywise, countrywise['Risk'], test_size = 0.3)"
   ]
  },
  {
   "cell_type": "code",
   "execution_count": 52,
   "metadata": {},
   "outputs": [
    {
     "data": {
      "text/plain": [
       "0.8245614035087719"
      ]
     },
     "execution_count": 52,
     "metadata": {},
     "output_type": "execute_result"
    }
   ],
   "source": [
    "from sklearn.linear_model import LogisticRegression\n",
    "lr = LogisticRegression().fit(x_train[['Confirmed']], x_train['Risk'])\n",
    "lr_predict = lr.predict(x_test[['Confirmed']])\n",
    "accuracy_score(y_test, lr_predict)"
   ]
  },
  {
   "cell_type": "markdown",
   "metadata": {},
   "source": [
    "# Lin Reg"
   ]
  },
  {
   "cell_type": "code",
   "execution_count": 53,
   "metadata": {},
   "outputs": [
    {
     "data": {
      "text/html": [
       "<div>\n",
       "<style scoped>\n",
       "    .dataframe tbody tr th:only-of-type {\n",
       "        vertical-align: middle;\n",
       "    }\n",
       "\n",
       "    .dataframe tbody tr th {\n",
       "        vertical-align: top;\n",
       "    }\n",
       "\n",
       "    .dataframe thead th {\n",
       "        text-align: right;\n",
       "    }\n",
       "</style>\n",
       "<table border=\"1\" class=\"dataframe\">\n",
       "  <thead>\n",
       "    <tr style=\"text-align: right;\">\n",
       "      <th></th>\n",
       "      <th>Country</th>\n",
       "      <th>Confirmed</th>\n",
       "      <th>Death</th>\n",
       "      <th>Recovered</th>\n",
       "      <th>Population</th>\n",
       "      <th>Incidence rate</th>\n",
       "      <th>Risk</th>\n",
       "      <th>km_cluster</th>\n",
       "    </tr>\n",
       "  </thead>\n",
       "  <tbody>\n",
       "    <tr>\n",
       "      <th>0</th>\n",
       "      <td>Afghanistan</td>\n",
       "      <td>45966</td>\n",
       "      <td>1752</td>\n",
       "      <td>36709</td>\n",
       "      <td>38928341</td>\n",
       "      <td>11.81</td>\n",
       "      <td>2</td>\n",
       "      <td>0</td>\n",
       "    </tr>\n",
       "    <tr>\n",
       "      <th>1</th>\n",
       "      <td>Albania</td>\n",
       "      <td>36790</td>\n",
       "      <td>787</td>\n",
       "      <td>18152</td>\n",
       "      <td>2877800</td>\n",
       "      <td>127.84</td>\n",
       "      <td>2</td>\n",
       "      <td>0</td>\n",
       "    </tr>\n",
       "    <tr>\n",
       "      <th>2</th>\n",
       "      <td>Algeria</td>\n",
       "      <td>81212</td>\n",
       "      <td>2393</td>\n",
       "      <td>52568</td>\n",
       "      <td>43851043</td>\n",
       "      <td>18.52</td>\n",
       "      <td>2</td>\n",
       "      <td>0</td>\n",
       "    </tr>\n",
       "    <tr>\n",
       "      <th>3</th>\n",
       "      <td>Andorra</td>\n",
       "      <td>6610</td>\n",
       "      <td>76</td>\n",
       "      <td>5710</td>\n",
       "      <td>77265</td>\n",
       "      <td>855.50</td>\n",
       "      <td>2</td>\n",
       "      <td>0</td>\n",
       "    </tr>\n",
       "    <tr>\n",
       "      <th>4</th>\n",
       "      <td>Angola</td>\n",
       "      <td>15087</td>\n",
       "      <td>345</td>\n",
       "      <td>7763</td>\n",
       "      <td>32866268</td>\n",
       "      <td>4.59</td>\n",
       "      <td>2</td>\n",
       "      <td>0</td>\n",
       "    </tr>\n",
       "  </tbody>\n",
       "</table>\n",
       "</div>"
      ],
      "text/plain": [
       "       Country  Confirmed  Death  Recovered  Population  Incidence rate  Risk  \\\n",
       "0  Afghanistan      45966   1752      36709    38928341           11.81     2   \n",
       "1      Albania      36790    787      18152     2877800          127.84     2   \n",
       "2      Algeria      81212   2393      52568    43851043           18.52     2   \n",
       "3      Andorra       6610     76       5710       77265          855.50     2   \n",
       "4       Angola      15087    345       7763    32866268            4.59     2   \n",
       "\n",
       "   km_cluster  \n",
       "0           0  \n",
       "1           0  \n",
       "2           0  \n",
       "3           0  \n",
       "4           0  "
      ]
     },
     "execution_count": 53,
     "metadata": {},
     "output_type": "execute_result"
    }
   ],
   "source": [
    "countrywise.head()"
   ]
  },
  {
   "cell_type": "code",
   "execution_count": 54,
   "metadata": {},
   "outputs": [
    {
     "name": "stdout",
     "output_type": "stream",
     "text": [
      "Mean Squared Error: 0.48\n",
      "R-Square: -0.69\n"
     ]
    }
   ],
   "source": [
    "x = np.array(countrywise)[:, 2]\n",
    "y = np.array(countrywise)[:, 6]\n",
    "\n",
    "x = x.reshape(-1,1)\n",
    "y = y.reshape(-1,1)\n",
    "\n",
    "x_train, x_test, y_train, y_test = train_test_split(x, y, test_size = 0.3)\n",
    "linearRegression = LinearRegression().fit(x_train, y_train)\n",
    "lr_predict = linearRegression.predict(x_test)\n",
    "print('Mean Squared Error: %.2f'%mean_squared_error(y_test, lr_predict))\n",
    "print('R-Square: %.2f'%r2_score(y_test, lr_predict))"
   ]
  },
  {
   "cell_type": "code",
   "execution_count": null,
   "metadata": {},
   "outputs": [],
   "source": []
  },
  {
   "cell_type": "code",
   "execution_count": null,
   "metadata": {},
   "outputs": [],
   "source": []
  }
 ],
 "metadata": {
  "kernelspec": {
   "display_name": "Python 3",
   "language": "python",
   "name": "python3"
  },
  "language_info": {
   "codemirror_mode": {
    "name": "ipython",
    "version": 3
   },
   "file_extension": ".py",
   "mimetype": "text/x-python",
   "name": "python",
   "nbconvert_exporter": "python",
   "pygments_lexer": "ipython3",
   "version": "3.8.3"
  }
 },
 "nbformat": 4,
 "nbformat_minor": 4
}
